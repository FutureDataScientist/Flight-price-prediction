{
 "cells": [
  {
   "cell_type": "markdown",
   "id": "a837ca05",
   "metadata": {},
   "source": [
    "# Assignment 9"
   ]
  },
  {
   "cell_type": "code",
   "execution_count": 2,
   "id": "36bf84a6",
   "metadata": {},
   "outputs": [],
   "source": [
    "##ans 1:\n",
    "class Vehicle:\n",
    "    def __init__(self, name, max_speed, average_speed):\n",
    "        self.name = name\n",
    "        self.max_speed = max_speed\n",
    "        self.average_speed = average_speed\n"
   ]
  },
  {
   "cell_type": "code",
   "execution_count": 3,
   "id": "e64d2469",
   "metadata": {},
   "outputs": [],
   "source": [
    "car = Vehicle(\"Tesla Model S\", 155, 80)\n"
   ]
  },
  {
   "cell_type": "code",
   "execution_count": 4,
   "id": "2aeff66a",
   "metadata": {},
   "outputs": [
    {
     "name": "stdout",
     "output_type": "stream",
     "text": [
      "Tesla Model S\n",
      "155\n",
      "80\n"
     ]
    }
   ],
   "source": [
    "print(car.name)  \n",
    "print(car.max_speed)  \n",
    "print(car.average_speed)  \n"
   ]
  },
  {
   "cell_type": "code",
   "execution_count": 5,
   "id": "98f5e9b0",
   "metadata": {},
   "outputs": [],
   "source": [
    "## ans 2:\n",
    "class Car(Vehicle):\n",
    "    def seating_capacity(self, capacity):\n",
    "        return f\"{self.name} has a seating capacity of {capacity} people.\"\n"
   ]
  },
  {
   "cell_type": "code",
   "execution_count": 6,
   "id": "9ddd0bd6",
   "metadata": {},
   "outputs": [
    {
     "name": "stdout",
     "output_type": "stream",
     "text": [
      "Tesla Model S has a seating capacity of 5 people.\n"
     ]
    }
   ],
   "source": [
    "my_car = Car(\"Tesla Model S\", 155, 80)\n",
    "print(my_car.seating_capacity(5))  \n"
   ]
  },
  {
   "cell_type": "markdown",
   "id": "bea1fe08",
   "metadata": {},
   "source": [
    "#ans 3:\n",
    "Multiple inheritance is a feature of object-oriented programming where a subclass can inherit from multiple parent classes. This allows the subclass to have access to the attributes and methods of all of its parent classes.\n",
    "\n",
    "Here's an example of a Python code that demonstrates multiple inheritance"
   ]
  },
  {
   "cell_type": "code",
   "execution_count": 8,
   "id": "5326a95f",
   "metadata": {},
   "outputs": [
    {
     "name": "stdout",
     "output_type": "stream",
     "text": [
      "Animal speaks\n",
      "Mammal feeds milk\n",
      "Dog barks\n"
     ]
    }
   ],
   "source": [
    "class Animal:\n",
    "    def speak(self):\n",
    "        print(\"Animal speaks\")\n",
    "\n",
    "class Mammal:\n",
    "    def feed_milk(self):\n",
    "        print(\"Mammal feeds milk\")\n",
    "\n",
    "class Dog(Animal, Mammal):\n",
    "    def bark(self):\n",
    "        print(\"Dog barks\")\n",
    "\n",
    "my_dog = Dog()\n",
    "my_dog.speak()  \n",
    "my_dog.feed_milk()  \n",
    "my_dog.bark()  \n"
   ]
  },
  {
   "cell_type": "code",
   "execution_count": null,
   "id": "3a994ed2",
   "metadata": {},
   "outputs": [],
   "source": []
  },
  {
   "cell_type": "markdown",
   "id": "4dadc182",
   "metadata": {},
   "source": [
    "#ans 4:\n",
    "In Python, getters and setters are methods used to access and modify the values of private instance variables. Getters are used to get the values of private variables, while setters are used to set or modify the values of private variables."
   ]
  },
  {
   "cell_type": "code",
   "execution_count": 9,
   "id": "c6ff6b13",
   "metadata": {},
   "outputs": [
    {
     "name": "stdout",
     "output_type": "stream",
     "text": [
      "30\n",
      "Age must be a positive number\n",
      "35\n"
     ]
    }
   ],
   "source": [
    "class Person:\n",
    "    def __init__(self, name, age):\n",
    "        self.name = name\n",
    "        self._age = age  \n",
    "\n",
    "    def get_age(self):\n",
    "        return self._age\n",
    "\n",
    "    def set_age(self, new_age):\n",
    "        if new_age > 0:\n",
    "            self._age = new_age\n",
    "        else:\n",
    "            print(\"Age must be a positive number\")\n",
    "\n",
    "person = Person(\"John\", 30)\n",
    "print(person.get_age())  \n",
    "\n",
    "person.set_age(-10) \n",
    "person.set_age(35)\n",
    "print(person.get_age())  \n"
   ]
  },
  {
   "cell_type": "code",
   "execution_count": null,
   "id": "2fddf488",
   "metadata": {},
   "outputs": [],
   "source": []
  },
  {
   "cell_type": "markdown",
   "id": "21236463",
   "metadata": {},
   "source": [
    "#ans 5:\n",
    "Method overriding is a feature of object-oriented programming where a subclass provides a different implementation for a method that is already defined in its parent class. The method in the subclass has the same name, parameters, and return type as the method in the parent class."
   ]
  },
  {
   "cell_type": "code",
   "execution_count": 10,
   "id": "90026457",
   "metadata": {},
   "outputs": [
    {
     "name": "stdout",
     "output_type": "stream",
     "text": [
      "Dog barks\n"
     ]
    }
   ],
   "source": [
    "class Animal:\n",
    "    def speak(self):\n",
    "        print(\"Animal speaks\")\n",
    "\n",
    "class Dog(Animal):\n",
    "    def speak(self):\n",
    "        print(\"Dog barks\")\n",
    "\n",
    "my_dog = Dog()\n",
    "my_dog.speak() \n"
   ]
  },
  {
   "cell_type": "code",
   "execution_count": null,
   "id": "9dbe928d",
   "metadata": {},
   "outputs": [],
   "source": []
  }
 ],
 "metadata": {
  "kernelspec": {
   "display_name": "Python 3 (ipykernel)",
   "language": "python",
   "name": "python3"
  },
  "language_info": {
   "codemirror_mode": {
    "name": "ipython",
    "version": 3
   },
   "file_extension": ".py",
   "mimetype": "text/x-python",
   "name": "python",
   "nbconvert_exporter": "python",
   "pygments_lexer": "ipython3",
   "version": "3.9.12"
  }
 },
 "nbformat": 4,
 "nbformat_minor": 5
}
