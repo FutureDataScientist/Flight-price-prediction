{
 "cells": [
  {
   "cell_type": "markdown",
   "id": "2fef6867",
   "metadata": {},
   "source": [
    "# Assignment 13"
   ]
  },
  {
   "cell_type": "markdown",
   "id": "c5470252",
   "metadata": {},
   "source": [
    "ans 1:\n",
    "Multithreading in Python refers to the ability of a program to execute multiple threads (or flows of execution) simultaneously within the same process. Each thread runs independently of the other threads, with its own set of instructions, program counter, and stack.\n",
    "\n",
    "Multithreading is used in Python to increase the efficiency and performance of programs that involve I/O bound or CPU-bound operations. I/O-bound operations include reading from or writing to a file, network communication, database access, etc., while CPU-bound operations include intensive computational tasks such as numerical computations, image processing, and so on.\n",
    "\n",
    "By dividing a program into smaller, independent threads that can run concurrently, it's possible to leverage the full power of modern multicore processors and increase the overall throughput of the system.\n",
    "\n",
    "In Python, the threading module is used to handle threads. The module provides a simple and efficient way to create and manage threads in a program. With the threading module, you can create new threads, start them, stop them, and synchronize their execution using locks, semaphores, and other synchronization primitives."
   ]
  },
  {
   "cell_type": "code",
   "execution_count": null,
   "id": "b9e47eea",
   "metadata": {},
   "outputs": [],
   "source": []
  },
  {
   "cell_type": "markdown",
   "id": "b3c602fc",
   "metadata": {},
   "source": [
    "ans 2:\n",
    "The threading module in Python is used to handle threads in a program. It provides a way to create, start, and manage threads, and offers various synchronization primitives to ensure correct and efficient coordination between threads.\n",
    "\n",
    "Here are the uses of some of the commonly used functions in the threading module:\n",
    "\n",
    "active_count(): This function returns the number of active threads in the current process. This can be useful for debugging and monitoring purposes, or to ensure that the number of threads in the program is within a certain limit.\n",
    "\n",
    "current_thread(): This function returns a reference to the current thread object, which can be useful for identifying the thread that is currently executing.\n",
    "\n",
    "enumerate(): This function returns a list of all active Thread objects in the current process. This can be useful for monitoring and debugging purposes, or for performing operations on all threads in the program at once."
   ]
  },
  {
   "cell_type": "code",
   "execution_count": null,
   "id": "8754d14f",
   "metadata": {},
   "outputs": [],
   "source": []
  },
  {
   "cell_type": "markdown",
   "id": "fa3f8c09",
   "metadata": {},
   "source": [
    "ans 3:\n",
    "Python's threading module, there are several functions that are commonly used to create, start, and manage threads. Here's an explanation of some of the most commonly used functions:\n",
    "\n",
    "run(): This is the method that is executed when a thread is started using the start() method. This method contains the code that the thread will execute.\n",
    "\n",
    "start(): This method starts a new thread by calling the run() method of the Thread object. When a thread is started, its run() method is executed in a separate thread of control.\n",
    "\n",
    "join(): This method blocks the calling thread until the thread on which it is called completes execution. This is useful when you want to wait for a thread to finish before continuing execution in the main thread.\n",
    "\n",
    "isAlive(): This method returns a Boolean value indicating whether the thread is currently executing. If the thread has not yet been started, or if it has completed execution, this method will return False. Otherwise, it will return True.\n",
    "\n",
    "For example, let's say you have a program that creates a new thread to perform some lengthy computation. You can create the thread by instantiating a Thread object, passing in the function to be executed in the new thread. You can then start the thread by calling the start() method. This will cause the new thread to begin executing the function in a separate thread of control.\n",
    "\n",
    "You can use the join() method to wait for the new thread to complete execution before continuing in the main thread. This ensures that the main thread doesn't continue until the computation is finished.\n",
    "\n",
    "You can also use the isAlive() method to check whether the thread is still running. This can be useful for monitoring the status of a thread and taking appropriate action if the thread has terminated unexpectedly."
   ]
  },
  {
   "cell_type": "code",
   "execution_count": null,
   "id": "8133e52f",
   "metadata": {},
   "outputs": [],
   "source": []
  },
  {
   "cell_type": "code",
   "execution_count": 1,
   "id": "b43e3647",
   "metadata": {},
   "outputs": [
    {
     "name": "stdout",
     "output_type": "stream",
     "text": [
      "Square of 1 is 1\n",
      "Square of 2 is 4\n",
      "Square of 3 is 9\n",
      "Square of 4 is 16\n",
      "Square of 5 is 25\n",
      "Square of 6 is 36\n",
      "Square of 7 is 49\n",
      "Square of 8 is 64\n",
      "Square of 9 is 81\n",
      "Square of 10 is 100\n",
      "Cube of 1 is 1\n",
      "Cube of 2 is 8\n",
      "Cube of 3 is 27\n",
      "Cube of 4 is 64\n",
      "Cube of 5 is 125\n",
      "Cube of 6 is 216\n",
      "Cube of 7 is 343\n",
      "Cube of 8 is 512\n",
      "Cube of 9 is 729\n",
      "Cube of 10 is 1000\n",
      "Finished\n"
     ]
    }
   ],
   "source": [
    "##ans 4\n",
    "import threading\n",
    "\n",
    "def print_squares():\n",
    "    for i in range(1, 11):\n",
    "        print(f\"Square of {i} is {i**2}\")\n",
    "\n",
    "def print_cubes():\n",
    "    for i in range(1, 11):\n",
    "        print(f\"Cube of {i} is {i**3}\")\n",
    "\n",
    "t1 = threading.Thread(target=print_squares)\n",
    "t2 = threading.Thread(target=print_cubes)\n",
    "\n",
    "t1.start()\n",
    "t2.start()\n",
    "\n",
    "t1.join()\n",
    "t2.join()\n",
    "\n",
    "print(\"Finished\")\n"
   ]
  },
  {
   "cell_type": "markdown",
   "id": "51776459",
   "metadata": {},
   "source": [
    "ans 5:\n",
    "Multithreading is a programming technique that involves using multiple threads of execution to perform multiple tasks concurrently within the same process. Multithreading can have several advantages and disadvantages:\n",
    "\n",
    "Advantages:\n",
    "\n",
    "Improved performance: By using multiple threads, a program can take advantage of multiple cores on a CPU or multiple CPUs to perform tasks more quickly and efficiently.\n",
    "\n",
    "Responsiveness: Multithreading allows a program to remain responsive to user input even when performing long-running tasks in the background.\n",
    "\n",
    "Resource sharing: Multiple threads can share resources such as memory, files, and network connections, which can reduce resource usage and improve scalability.\n",
    "\n",
    "Modularity: By breaking a program into smaller, independent threads, it can be easier to manage and debug the code.\n",
    "\n",
    "Disadvantages:\n",
    "\n",
    "Increased complexity: Multithreaded programs can be more difficult to write, debug, and maintain than single-threaded programs, due to the added complexity of managing multiple threads and coordinating their interactions.\n",
    "\n",
    "Race conditions: If multiple threads access the same shared resource simultaneously without proper synchronization, it can lead to race conditions and other synchronization problems that can be difficult to detect and fix.\n",
    "\n",
    "Deadlocks: Multithreaded programs can also suffer from deadlocks, where two or more threads are blocked waiting for each other to release resources.\n",
    "\n",
    "Overhead: Creating and managing threads can add overhead to a program, and excessive thread creation can actually decrease performance.\n",
    "\n",
    "In summary, multithreading can offer significant benefits in terms of performance, responsiveness, and resource sharing, but it can also introduce complexity and synchronization challenges that need to be carefully managed."
   ]
  },
  {
   "cell_type": "code",
   "execution_count": null,
   "id": "dc5099f0",
   "metadata": {},
   "outputs": [],
   "source": []
  },
  {
   "cell_type": "markdown",
   "id": "45195918",
   "metadata": {},
   "source": [
    "ans 6:\n",
    "Deadlocks and race conditions are two common synchronization problems that can occur in multithreaded programs. Here's an explanation of what they are and how they can be avoided:\n",
    "\n",
    "Deadlocks:\n",
    "A deadlock occurs when two or more threads are blocked waiting for each other to release resources that they need to proceed. For example, imagine two threads, A and B, are both waiting for a resource that the other thread holds. If neither thread releases the resource, both threads will remain blocked indefinitely, resulting in a deadlock.\n",
    "Deadlocks can be avoided by ensuring that threads acquire and release resources in a consistent and predictable order. This can be achieved by using locking primitives like mutexes, semaphores, or monitors, and by enforcing a strict order of resource acquisition and release. In addition, timeouts can be used to prevent deadlocks from occurring indefinitely.\n",
    "\n",
    "Race conditions:\n",
    "A race condition occurs when two or more threads access a shared resource simultaneously, and the final outcome of the program depends on the timing of these accesses. For example, imagine two threads, A and B, both incrementing a shared variable count. If both threads read the value of count at the same time, and then both increment it before writing the result back, the final value of count will be incorrect.\n",
    "Race conditions can be avoided by ensuring that threads access shared resources in a mutually exclusive manner. This can be achieved by using locking primitives like mutexes, semaphores, or monitors to ensure that only one thread can access a resource at a time. In addition, atomic operations and thread-safe data structures can be used to ensure that individual operations are executed atomically and in a thread-safe manner."
   ]
  },
  {
   "cell_type": "code",
   "execution_count": null,
   "id": "d4369b5e",
   "metadata": {},
   "outputs": [],
   "source": []
  }
 ],
 "metadata": {
  "kernelspec": {
   "display_name": "Python 3 (ipykernel)",
   "language": "python",
   "name": "python3"
  },
  "language_info": {
   "codemirror_mode": {
    "name": "ipython",
    "version": 3
   },
   "file_extension": ".py",
   "mimetype": "text/x-python",
   "name": "python",
   "nbconvert_exporter": "python",
   "pygments_lexer": "ipython3",
   "version": "3.9.12"
  }
 },
 "nbformat": 4,
 "nbformat_minor": 5
}
