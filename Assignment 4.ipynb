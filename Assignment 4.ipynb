{
 "cells": [
  {
   "cell_type": "markdown",
   "id": "7cb5d333",
   "metadata": {},
   "source": [
    "# Assignment 4"
   ]
  },
  {
   "cell_type": "markdown",
   "id": "9ffdae85",
   "metadata": {},
   "source": [
    "## ans 1:\n",
    "Object-Oriented Programming (OOP) is a programming paradigm that models software systems as objects. Objects are instances of classes, which are templates that define the properties and behaviors of a particular type of object.\n",
    "\n",
    "A class is a blueprint or a template for creating objects. It defines the properties and behaviors of a certain type of object. For example, a class could be defined for a car, with properties such as color, make, model, and year, and behaviors such as driving, braking, and accelerating.\n",
    "\n",
    "An object is an instance of a class. It represents a specific instance of a class and has its own unique set of values for the properties defined by the class. For example, an object could be an instance of the car class, with its own unique color, make, model, and year.\n",
    "\n",
    "Here's an example to illustrate the concept of class and object:"
   ]
  },
  {
   "cell_type": "code",
   "execution_count": 1,
   "id": "4538861e",
   "metadata": {},
   "outputs": [
    {
     "name": "stdout",
     "output_type": "stream",
     "text": [
      "red\n",
      "Driving...\n"
     ]
    }
   ],
   "source": [
    "class Car:\n",
    "    def __init__(self, color, make, model, year):\n",
    "        self.color = color\n",
    "        self.make = make\n",
    "        self.model = model\n",
    "        self.year = year\n",
    "\n",
    "    def drive(self):\n",
    "        print(\"Driving...\")\n",
    "\n",
    "    def brake(self):\n",
    "        print(\"Braking...\")\n",
    "\n",
    "    def accelerate(self):\n",
    "        print(\"Accelerating...\")\n",
    "\n",
    "my_car = Car(\"red\", \"Toyota\", \"Corolla\", 2022)\n",
    "print(my_car.color)  \n",
    "my_car.drive()  \n"
   ]
  },
  {
   "cell_type": "code",
   "execution_count": null,
   "id": "cb2fd6ff",
   "metadata": {},
   "outputs": [],
   "source": []
  },
  {
   "cell_type": "markdown",
   "id": "837bd2f7",
   "metadata": {},
   "source": [
    "Ans 2:\n",
    "The four pillars of Object-Oriented Programming (OOP) are:\n",
    "\n",
    "Encapsulation: It is a mechanism that bundles data and methods (functions that operate on the data) together within a single unit, preventing unauthorized access to the data and protecting it from unintended modifications. It helps in achieving data hiding and abstraction.\n",
    "\n",
    "Inheritance: It is a mechanism that enables a new class to be based on an existing class, inheriting its properties (attributes and methods) and reusing the code. The existing class is called the parent class or superclass, and the new class is called the child class or subclass.\n",
    "\n",
    "Polymorphism: It is the ability of an object to take on multiple forms or behaviors depending on the context. Polymorphism allows objects of different classes to be treated as if they were of the same class, providing a more flexible and extensible code.\n",
    "\n",
    "Abstraction: It is the process of hiding the implementation details of a class or a method and exposing only the essential features to the user. Abstraction allows the user to focus on what the object does rather than how it does it, making the code more user-friendly and easier to maintain."
   ]
  },
  {
   "cell_type": "code",
   "execution_count": null,
   "id": "5b258f20",
   "metadata": {},
   "outputs": [],
   "source": []
  },
  {
   "cell_type": "markdown",
   "id": "b6f2170f",
   "metadata": {},
   "source": [
    "#ans 3:\n",
    "The __init__() function is a special method in Python that is used to initialize the attributes of an object when it is created. It is also known as the constructor method of a class."
   ]
  },
  {
   "cell_type": "code",
   "execution_count": 2,
   "id": "f8f40a57",
   "metadata": {},
   "outputs": [
    {
     "name": "stdout",
     "output_type": "stream",
     "text": [
      "John\n",
      "25\n"
     ]
    }
   ],
   "source": [
    "class Person:\n",
    "    def __init__(self, name, age):\n",
    "        self.name = name\n",
    "        self.age = age\n",
    "\n",
    "    def get_name(self):\n",
    "        return self.name\n",
    "\n",
    "    def get_age(self):\n",
    "        return self.age\n",
    "\n",
    "person1 = Person(\"John\", 30)\n",
    "person2 = Person(\"Jane\", 25)\n",
    "\n",
    "print(person1.get_name())  \n",
    "print(person2.get_age())   \n"
   ]
  },
  {
   "cell_type": "code",
   "execution_count": null,
   "id": "4874839b",
   "metadata": {},
   "outputs": [],
   "source": []
  },
  {
   "cell_type": "markdown",
   "id": "cdc44ba9",
   "metadata": {},
   "source": [
    "# ans 4:\n",
    "In Object-Oriented Programming (OOP), self is a reference to the current instance of a class. It is a parameter in the method definition that refers to the object being operated on. self is used to access the attributes and methods of an object within its own class.\n",
    "\n",
    "When a method is called on an object, the object automatically gets passed as the first argument to the method. This object is referred to as self. By convention, we use the name self to refer to this object, although you could use any name you like.\n",
    "\n",
    "For example, in the following code, self is used to refer to the current instance of the Person class:"
   ]
  },
  {
   "cell_type": "code",
   "execution_count": 3,
   "id": "c3f12c8a",
   "metadata": {},
   "outputs": [
    {
     "name": "stdout",
     "output_type": "stream",
     "text": [
      "John\n",
      "25\n"
     ]
    }
   ],
   "source": [
    "class Person:\n",
    "    def __init__(self, name, age):\n",
    "        self.name = name\n",
    "        self.age = age\n",
    "\n",
    "    def get_name(self):\n",
    "        return self.name\n",
    "\n",
    "    def get_age(self):\n",
    "        return self.age\n",
    "\n",
    "person1 = Person(\"John\", 30)\n",
    "person2 = Person(\"Jane\", 25)\n",
    "\n",
    "print(person1.get_name()) \n",
    "print(person2.get_age())  \n"
   ]
  },
  {
   "cell_type": "code",
   "execution_count": null,
   "id": "708e8d96",
   "metadata": {},
   "outputs": [],
   "source": []
  },
  {
   "cell_type": "markdown",
   "id": "f2f29387",
   "metadata": {},
   "source": [
    "# ans 5:\n",
    "Inheritance is one of the fundamental concepts of Object-Oriented Programming (OOP) that allows a new class to be based on an existing class, inheriting its properties (attributes and methods) and reusing the code. The existing class is called the parent class or superclass, and the new class is called the child class or subclass.\n",
    "\n",
    "There are several types of inheritance in Python:\n",
    "\n",
    "Single Inheritance: In single inheritance, a subclass inherits properties from a single superclass."
   ]
  },
  {
   "cell_type": "code",
   "execution_count": 5,
   "id": "b3336d77",
   "metadata": {},
   "outputs": [
    {
     "name": "stdout",
     "output_type": "stream",
     "text": [
      "Toyota\n",
      "Starting the vehicle...\n",
      "Driving the car...\n"
     ]
    }
   ],
   "source": [
    "class Vehicle:\n",
    "    def __init__(self, make, model, year):\n",
    "        self.make = make\n",
    "        self.model = model\n",
    "        self.year = year\n",
    "\n",
    "    def start(self):\n",
    "        print(\"Starting the vehicle...\")\n",
    "\n",
    "class Car(Vehicle):\n",
    "    def __init__(self, make, model, year, num_doors):\n",
    "        super().__init__(make, model, year)\n",
    "        self.num_doors = num_doors\n",
    "\n",
    "    def drive(self):\n",
    "        print(\"Driving the car...\")\n",
    "\n",
    "car1 = Car(\"Toyota\", \"Corolla\", 2020, 4)\n",
    "print(car1.make)  \n",
    "car1.start()      \n",
    "car1.drive()      \n"
   ]
  },
  {
   "cell_type": "markdown",
   "id": "26644bcc",
   "metadata": {},
   "source": [
    "Multiple Inheritance: \n",
    "When a class can be derived from more than one base class this type of inheritance is called multiple inheritances. In multiple inheritances, all the features of the base classes are inherited into the derived class. "
   ]
  },
  {
   "cell_type": "code",
   "execution_count": 8,
   "id": "e7edbf41",
   "metadata": {},
   "outputs": [
    {
     "name": "stdout",
     "output_type": "stream",
     "text": [
      "Father : RAM\n",
      "Mother : SITA\n"
     ]
    }
   ],
   "source": [
    "class Mother:\n",
    "    mothername = \"\"\n",
    "\n",
    "    def mother(self):\n",
    "        print(self.mothername)\n",
    "\n",
    "\n",
    "\n",
    "class Father:\n",
    "    fathername = \"\"\n",
    "\n",
    "    def father(self):\n",
    "        print(self.fathername)\n",
    "\n",
    "\n",
    "\n",
    "class Son(Mother, Father):\n",
    "     def parents(self):\n",
    "        print(\"Father :\", self.fathername)\n",
    "        print(\"Mother :\", self.mothername)\n",
    "\n",
    "s1 = Son()\n",
    "s1.fathername = \"RAM\"\n",
    "s1.mothername = \"SITA\"\n",
    "s1.parents()\n"
   ]
  },
  {
   "cell_type": "markdown",
   "id": "9b569f57",
   "metadata": {},
   "source": [
    "Multilevel Inheritance :\n",
    "In multilevel inheritance, features of the base class and the derived class are further inherited into the new derived class. This is similar to a relationship representing a child and a grandfather. "
   ]
  },
  {
   "cell_type": "code",
   "execution_count": 9,
   "id": "2aee58d4",
   "metadata": {},
   "outputs": [
    {
     "name": "stdout",
     "output_type": "stream",
     "text": [
      "Lal mani\n",
      "Grandfather name : Lal mani\n",
      "Father name : Rampal\n",
      "Son name : Prince\n"
     ]
    }
   ],
   "source": [
    "class Grandfather:\n",
    "\n",
    "      def __init__(self, grandfathername):\n",
    "        self.grandfathername = grandfathername\n",
    "\n",
    "\n",
    "\n",
    "\n",
    "class Father(Grandfather):\n",
    "     def __init__(self, fathername, grandfathername):\n",
    "        self.fathername = fathername\n",
    "\n",
    "\n",
    "        Grandfather.__init__(self, grandfathername)\n",
    "\n",
    "\n",
    "\n",
    "\n",
    "class Son(Father):\n",
    "    def __init__(self, sonname, fathername, grandfathername):\n",
    "        self.sonname = sonname\n",
    "\n",
    "\n",
    "        Father.__init__(self, fathername, grandfathername)\n",
    "\n",
    "    def print_name(self):\n",
    "        print('Grandfather name :', self.grandfathername)\n",
    "        print(\"Father name :\", self.fathername)\n",
    "        print(\"Son name :\", self.sonname)\n",
    "\n",
    "\n",
    "# Driver code\n",
    "s1 = Son('Prince', 'Rampal', 'Lal mani')\n",
    "print(s1.grandfathername)\n",
    "s1.print_name()\n"
   ]
  },
  {
   "cell_type": "markdown",
   "id": "d882d533",
   "metadata": {},
   "source": [
    "Hierarchical Inheritance: \n",
    "When more than one derived class are created from a single base this type of inheritance is called hierarchical inheritance. In this program, we have a parent (base) class and two child (derived) classes."
   ]
  },
  {
   "cell_type": "code",
   "execution_count": 10,
   "id": "606db6e7",
   "metadata": {},
   "outputs": [
    {
     "name": "stdout",
     "output_type": "stream",
     "text": [
      "This function is in parent class.\n",
      "This function is in child 1.\n",
      "This function is in parent class.\n",
      "This function is in child 2.\n"
     ]
    }
   ],
   "source": [
    "class Parent:\n",
    "     def func1(self):\n",
    "        print(\"This function is in parent class.\")\n",
    "\n",
    "\n",
    "\n",
    "\n",
    "class Child1(Parent):\n",
    "     def func2(self):\n",
    "        print(\"This function is in child 1.\")\n",
    "\n",
    "\n",
    "\n",
    "\n",
    "class Child2(Parent):\n",
    "     def func3(self):\n",
    "        print(\"This function is in child 2.\")\n",
    "\n",
    "\n",
    "\n",
    "object1 = Child1()\n",
    "object2 = Child2()\n",
    "object1.func1()\n",
    "object1.func2()\n",
    "object2.func1()\n",
    "object2.func3()\n"
   ]
  },
  {
   "cell_type": "markdown",
   "id": "8994d57f",
   "metadata": {},
   "source": [
    "Hybrid Inheritance: \n",
    "Inheritance consisting of multiple types of inheritance is called hybrid inheritance."
   ]
  },
  {
   "cell_type": "code",
   "execution_count": 11,
   "id": "3ec53094",
   "metadata": {},
   "outputs": [
    {
     "name": "stdout",
     "output_type": "stream",
     "text": [
      "This function is in school.\n",
      "This function is in student 1. \n"
     ]
    }
   ],
   "source": [
    "class School:\n",
    "     def func1(self):\n",
    "        print(\"This function is in school.\")\n",
    "\n",
    "\n",
    "class Student1(School):\n",
    "    def func2(self):\n",
    "        print(\"This function is in student 1. \")\n",
    "\n",
    "\n",
    "class Student2(School):\n",
    "     def func3(self):\n",
    "        print(\"This function is in student 2.\")\n",
    "\n",
    "\n",
    "class Student3(Student1, School):\n",
    "    def func4(self):\n",
    "        print(\"This function is in student 3.\")\n",
    "\n",
    "\n",
    "\n",
    "object = Student3()\n",
    "object.func1()\n",
    "object.func2()\n"
   ]
  },
  {
   "cell_type": "code",
   "execution_count": null,
   "id": "37e24351",
   "metadata": {},
   "outputs": [],
   "source": []
  }
 ],
 "metadata": {
  "kernelspec": {
   "display_name": "Python 3 (ipykernel)",
   "language": "python",
   "name": "python3"
  },
  "language_info": {
   "codemirror_mode": {
    "name": "ipython",
    "version": 3
   },
   "file_extension": ".py",
   "mimetype": "text/x-python",
   "name": "python",
   "nbconvert_exporter": "python",
   "pygments_lexer": "ipython3",
   "version": "3.9.12"
  }
 },
 "nbformat": 4,
 "nbformat_minor": 5
}
