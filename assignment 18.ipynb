{
 "cells": [
  {
   "cell_type": "markdown",
   "id": "295cec3e",
   "metadata": {},
   "source": [
    "# assignment 18"
   ]
  },
  {
   "cell_type": "markdown",
   "id": "a94554f7",
   "metadata": {},
   "source": [
    " ans 1:Flask is a micro web framework written in Python that provides tools and libraries for building web applications. Flask is lightweight, flexible, and easy to learn, making it a popular choice for developing small to medium-sized web applications.\n",
    "\n",
    "Here are some advantages of using Flask:\n",
    "\n",
    "Lightweight: Flask is a lightweight framework that requires minimal configuration and setup, making it easy to get started with and use.\n",
    "\n",
    "Flexibility: Flask is a flexible framework that allows developers to choose the components and libraries they want to use in their application.\n",
    "\n",
    "Easy to learn: Flask has a simple and intuitive API that is easy to learn and understand, even for beginners.\n",
    "\n",
    "Modular design: Flask has a modular design that makes it easy to add new functionality and features to an application.\n",
    "\n",
    "Built-in development server: Flask includes a built-in development server, which makes it easy to test and debug applications during development.\n",
    "\n",
    "Large community: Flask has a large and active community of developers, which provides support, resources, and extensions for the framework.\n",
    "\n",
    "Compatibility: Flask is compatible with many different Python libraries and frameworks, making it easy to integrate with other tools and technologies."
   ]
  },
  {
   "cell_type": "code",
   "execution_count": null,
   "id": "4ead5c8e",
   "metadata": {},
   "outputs": [],
   "source": []
  },
  {
   "cell_type": "code",
   "execution_count": null,
   "id": "d74f80d0",
   "metadata": {
    "scrolled": true
   },
   "outputs": [
    {
     "name": "stdout",
     "output_type": "stream",
     "text": [
      " * Serving Flask app \"__main__\" (lazy loading)\n",
      " * Environment: production\n",
      "\u001b[31m   WARNING: This is a development server. Do not use it in a production deployment.\u001b[0m\n",
      "\u001b[2m   Use a production WSGI server instead.\u001b[0m\n",
      " * Debug mode: off\n"
     ]
    },
    {
     "name": "stderr",
     "output_type": "stream",
     "text": [
      " * Running on http://127.0.0.1:5000/ (Press CTRL+C to quit)\n",
      "127.0.0.1 - - [21/Mar/2023 22:01:28] \"GET / HTTP/1.1\" 200 -\n",
      "127.0.0.1 - - [21/Mar/2023 22:01:28] \"GET /favicon.ico HTTP/1.1\" 404 -\n",
      "127.0.0.1 - - [21/Mar/2023 22:14:22] \"GET / HTTP/1.1\" 200 -\n"
     ]
    }
   ],
   "source": [
    "##ans 2:\n",
    "from flask import Flask\n",
    "\n",
    "app = Flask(__name__)\n",
    "\n",
    "@app.route('/')\n",
    "def hello():\n",
    "    return 'Hello World!!'\n",
    "\n",
    "if __name__ == '__main__':\n",
    "    app.run()\n"
   ]
  },
  {
   "cell_type": "code",
   "execution_count": null,
   "id": "b13eb74f",
   "metadata": {},
   "outputs": [],
   "source": []
  },
  {
   "cell_type": "markdown",
   "id": "aca42661",
   "metadata": {},
   "source": [
    "ans 3:App routing in Flask is the process of mapping URLs to functions that handle the requests. In Flask, app routing is implemented using the @app.route() decorator.\n",
    "\n",
    "The @app.route() decorator is used to bind a function to a URL route. When a user requests a URL, Flask uses the routing information to determine which function should handle the request. The function then generates a response, which is sent back to the user's browser.\n",
    "\n",
    "We use app routes in Flask for several reasons:\n",
    "\n",
    "Handling requests: App routes allow us to handle different types of requests (GET, POST, PUT, DELETE, etc.) for different URLs.\n",
    "\n",
    "URL organization: App routes help us organize the URLs in our application and make them more understandable and maintainable.\n",
    "\n",
    "Separation of concerns: App routes help us separate the logic of our application into different functions, making it easier to understand and maintain.\n",
    "\n",
    "Error handling: App routes allow us to handle errors and exceptions in our application, ensuring that our users receive a friendly and informative error message if something goes wrong."
   ]
  },
  {
   "cell_type": "code",
   "execution_count": null,
   "id": "bb96ec78",
   "metadata": {},
   "outputs": [],
   "source": []
  },
  {
   "cell_type": "markdown",
   "id": "2a655b04",
   "metadata": {},
   "source": [
    " ans 4:example code snippet to create the \"/welcome\" and \"/\" routes in Flask:\n",
    "\n"
   ]
  },
  {
   "cell_type": "code",
   "execution_count": null,
   "id": "ef45d206",
   "metadata": {},
   "outputs": [],
   "source": []
  },
  {
   "cell_type": "code",
   "execution_count": null,
   "id": "a7bb7d54",
   "metadata": {},
   "outputs": [],
   "source": [
    "from flask import Flask\n",
    "\n",
    "app = Flask(__name__)\n",
    "\n",
    "@app.route('/welcome')\n",
    "def welcome():\n",
    "    return 'Welcome to ABC Corporation'\n",
    "\n",
    "@app.route('/')\n",
    "def company_details():\n",
    "    return 'Company Name: ABC Corporation<br>Location: India<br>Contact Detail: 999-999-9999'\n",
    "\n",
    "if __name__ == '__main__':\n",
    "    app.run()\n"
   ]
  },
  {
   "cell_type": "code",
   "execution_count": null,
   "id": "5052b411",
   "metadata": {},
   "outputs": [],
   "source": []
  },
  {
   "cell_type": "markdown",
   "id": "6d60f954",
   "metadata": {},
   "source": [
    "ans 5:In Flask, the url_for() function is used for URL building. The url_for() function generates a URL for a given function, based on the routing information defined in the application.\n"
   ]
  },
  {
   "cell_type": "code",
   "execution_count": null,
   "id": "c1e231b4",
   "metadata": {},
   "outputs": [],
   "source": [
    "from flask import Flask, url_for\n",
    "\n",
    "app = Flask(__name__)\n",
    "\n",
    "@app.route('/hello/<name>')\n",
    "def hello(name):\n",
    "    return 'Hello, {}'.format(name)\n",
    "\n",
    "@app.route('/')\n",
    "def index():\n",
    "    return '<a href=\"{}\">Go to Hello Page</a>'.format(url_for('hello', name='Alice'))\n",
    "\n",
    "if __name__ == '__main__':\n",
    "    app.run()\n"
   ]
  },
  {
   "cell_type": "code",
   "execution_count": null,
   "id": "b066677c",
   "metadata": {},
   "outputs": [],
   "source": []
  }
 ],
 "metadata": {
  "kernelspec": {
   "display_name": "Python 3 (ipykernel)",
   "language": "python",
   "name": "python3"
  },
  "language_info": {
   "codemirror_mode": {
    "name": "ipython",
    "version": 3
   },
   "file_extension": ".py",
   "mimetype": "text/x-python",
   "name": "python",
   "nbconvert_exporter": "python",
   "pygments_lexer": "ipython3",
   "version": "3.9.12"
  }
 },
 "nbformat": 4,
 "nbformat_minor": 5
}
