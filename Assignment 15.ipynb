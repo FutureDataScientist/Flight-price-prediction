{
 "cells": [
  {
   "cell_type": "markdown",
   "id": "93a7ccb5",
   "metadata": {},
   "source": [
    "# Assignment 15"
   ]
  },
  {
   "cell_type": "markdown",
   "id": "ca8cea93",
   "metadata": {},
   "source": [
    "ans 1:\n",
    "A database is a structured collection of data that is organized and stored in a way that allows efficient retrieval and manipulation of that data. A database typically includes tables or collections of related data, with each table containing rows (also known as records) and columns (also known as fields) of data.\n",
    "\n",
    "There are two main types of databases: SQL (relational) databases and NoSQL (non-relational) databases.\n",
    "\n",
    "SQL databases are based on the relational model, which organizes data into one or more tables with a unique key that identifies each row in the table. SQL databases are typically used for structured data, such as financial data or customer records. SQL databases use a structured query language (SQL) to interact with the data.\n",
    "\n",
    "NoSQL databases, on the other hand, do not rely on a fixed schema or tabular structure. Instead, NoSQL databases use a variety of data models to store and access data, including document-oriented databases, key-value stores, and graph databases. NoSQL databases are typically used for unstructured or semi-structured data, such as social media posts or sensor data. NoSQL databases use a variety of query languages, depending on the specific type of database."
   ]
  },
  {
   "cell_type": "code",
   "execution_count": null,
   "id": "31e7052c",
   "metadata": {},
   "outputs": [],
   "source": []
  },
  {
   "cell_type": "markdown",
   "id": "a1c144eb",
   "metadata": {},
   "source": [
    "ans 2:\n",
    "define the database schema, i.e., to create, modify, or delete database objects such as tables, views, indexes, etc. The following are the four basic DDL commands and their usage:\n",
    "\n",
    "CREATE: The CREATE command is used to create new database objects such as tables, views, indexes, etc\n",
    "    DROP: The DROP command is used to delete an existing database object. For example, the following SQL statement drops the \"customers\" table:\n",
    "ALTER: The ALTER command is used to modify the structure of an existing database object, such as adding or deleting columns or changing the data type of a column. For example, the following SQL statement adds a new column \"phone\" to the \"customers\" table:\n",
    "        TRUNCATE: The TRUNCATE command is used to delete all the data from a table while keeping the structure intact.\n"
   ]
  },
  {
   "cell_type": "code",
   "execution_count": null,
   "id": "3ef2ccdd",
   "metadata": {},
   "outputs": [],
   "source": []
  },
  {
   "cell_type": "markdown",
   "id": "b04d78a1",
   "metadata": {},
   "source": [
    "ans 3:\n",
    "DML stands for Data Manipulation Language, which is a subset of SQL used to manipulate data within a database. It includes commands such as INSERT, UPDATE, and DELETE.\n",
    "\n",
    "INSERT: This command is used to insert new records into a table. The basic syntax for INSERT is:\n",
    "UPDATE: This command is used to update existing records in a table. The basic syntax for UPDATE is:\n",
    "DELETE: This command is used to delete existing records from a table. The basic syntax for DELETE is:\n"
   ]
  },
  {
   "cell_type": "code",
   "execution_count": null,
   "id": "a031cba5",
   "metadata": {},
   "outputs": [],
   "source": []
  },
  {
   "cell_type": "markdown",
   "id": "04843056",
   "metadata": {},
   "source": [
    "ans 4:\n",
    "DQL stands for Data Query Language, which is a subset of SQL used to retrieve data from a database. It includes commands such as SELECT.\n",
    "\n",
    "SELECT: This command is used to retrieve data from one or more tables in a database. The basic syntax for SELECT is:\n"
   ]
  },
  {
   "cell_type": "code",
   "execution_count": null,
   "id": "a57e95a3",
   "metadata": {},
   "outputs": [],
   "source": []
  },
  {
   "cell_type": "markdown",
   "id": "e10452dc",
   "metadata": {},
   "source": [
    " ans 5:A primary key and a foreign key are both important concepts in relational databases. They are used to establish relationships between tables and ensure data integrity.\n",
    "\n",
    "Primary Key: A primary key is a column or set of columns in a table that uniquely identifies each row in that table. It must be unique and non-null for each record in the table. A primary key can consist of one or more columns, and it can be an auto-incrementing number, a string, or any other data type. Primary keys are used as a reference point for other tables in the database that may have a relationship with the primary key. For example, in a table of customers, the primary key might be a unique ID number assigned to each customer.\n",
    "\n",
    "Foreign Key: A foreign key is a column or set of columns in a table that refers to the primary key of another table. It is used to establish a relationship between two tables, and it ensures that the data in the referencing table is consistent with the data in the referenced table. In other words, it ensures that only valid data can be entered into the table. For example, in a table of orders, there might be a foreign key column that references the primary key of the customers table. This foreign key ensures that only valid customer IDs can be entered into the orders table."
   ]
  },
  {
   "cell_type": "code",
   "execution_count": null,
   "id": "89ce130a",
   "metadata": {},
   "outputs": [],
   "source": []
  },
  {
   "cell_type": "markdown",
   "id": "07849a26",
   "metadata": {},
   "source": [
    "ans 6:To connect MySQL to Python, we can use the mysql-connector module. Here is an example code to establish a connection and execute a simple SELECT query:\n"
   ]
  },
  {
   "cell_type": "code",
   "execution_count": 3,
   "id": "3712e9f9",
   "metadata": {},
   "outputs": [
    {
     "ename": "ProgrammingError",
     "evalue": "1045 (28000): Access denied for user 'username'@'localhost' (using password: YES)",
     "output_type": "error",
     "traceback": [
      "\u001b[1;31m---------------------------------------------------------------------------\u001b[0m",
      "\u001b[1;31mMySQLInterfaceError\u001b[0m                       Traceback (most recent call last)",
      "File \u001b[1;32m~\\anaconda3\\lib\\site-packages\\mysql\\connector\\connection_cext.py:246\u001b[0m, in \u001b[0;36mCMySQLConnection._open_connection\u001b[1;34m(self)\u001b[0m\n\u001b[0;32m    245\u001b[0m \u001b[38;5;28;01mtry\u001b[39;00m:\n\u001b[1;32m--> 246\u001b[0m     \u001b[38;5;28mself\u001b[39m\u001b[38;5;241m.\u001b[39m_cmysql\u001b[38;5;241m.\u001b[39mconnect(\u001b[38;5;241m*\u001b[39m\u001b[38;5;241m*\u001b[39mcnx_kwargs)\n\u001b[0;32m    247\u001b[0m     \u001b[38;5;28mself\u001b[39m\u001b[38;5;241m.\u001b[39m_cmysql\u001b[38;5;241m.\u001b[39mconverter_str_fallback \u001b[38;5;241m=\u001b[39m \u001b[38;5;28mself\u001b[39m\u001b[38;5;241m.\u001b[39m_converter_str_fallback\n",
      "\u001b[1;31mMySQLInterfaceError\u001b[0m: Access denied for user 'username'@'localhost' (using password: YES)",
      "\nDuring handling of the above exception, another exception occurred:\n",
      "\u001b[1;31mProgrammingError\u001b[0m                          Traceback (most recent call last)",
      "Input \u001b[1;32mIn [3]\u001b[0m, in \u001b[0;36m<cell line: 4>\u001b[1;34m()\u001b[0m\n\u001b[0;32m      1\u001b[0m \u001b[38;5;28;01mimport\u001b[39;00m \u001b[38;5;21;01mmysql\u001b[39;00m\u001b[38;5;21;01m.\u001b[39;00m\u001b[38;5;21;01mconnector\u001b[39;00m\n\u001b[0;32m      3\u001b[0m \u001b[38;5;66;03m# establish connection to MySQL server\u001b[39;00m\n\u001b[1;32m----> 4\u001b[0m mydb \u001b[38;5;241m=\u001b[39m \u001b[43mmysql\u001b[49m\u001b[38;5;241;43m.\u001b[39;49m\u001b[43mconnector\u001b[49m\u001b[38;5;241;43m.\u001b[39;49m\u001b[43mconnect\u001b[49m\u001b[43m(\u001b[49m\n\u001b[0;32m      5\u001b[0m \u001b[43m  \u001b[49m\u001b[43mhost\u001b[49m\u001b[38;5;241;43m=\u001b[39;49m\u001b[38;5;124;43m\"\u001b[39;49m\u001b[38;5;124;43mlocalhost\u001b[39;49m\u001b[38;5;124;43m\"\u001b[39;49m\u001b[43m,\u001b[49m\n\u001b[0;32m      6\u001b[0m \u001b[43m  \u001b[49m\u001b[43muser\u001b[49m\u001b[38;5;241;43m=\u001b[39;49m\u001b[38;5;124;43m\"\u001b[39;49m\u001b[38;5;124;43musername\u001b[39;49m\u001b[38;5;124;43m\"\u001b[39;49m\u001b[43m,\u001b[49m\n\u001b[0;32m      7\u001b[0m \u001b[43m  \u001b[49m\u001b[43mpassword\u001b[49m\u001b[38;5;241;43m=\u001b[39;49m\u001b[38;5;124;43m\"\u001b[39;49m\u001b[38;5;124;43mpassword\u001b[39;49m\u001b[38;5;124;43m\"\u001b[39;49m\u001b[43m,\u001b[49m\n\u001b[0;32m      8\u001b[0m \u001b[43m  \u001b[49m\u001b[43mdatabase\u001b[49m\u001b[38;5;241;43m=\u001b[39;49m\u001b[38;5;124;43m\"\u001b[39;49m\u001b[38;5;124;43mdatabase_name\u001b[39;49m\u001b[38;5;124;43m\"\u001b[39;49m\n\u001b[0;32m      9\u001b[0m \u001b[43m)\u001b[49m\n\u001b[0;32m     11\u001b[0m \u001b[38;5;66;03m# create a cursor object\u001b[39;00m\n\u001b[0;32m     12\u001b[0m mycursor \u001b[38;5;241m=\u001b[39m mydb\u001b[38;5;241m.\u001b[39mcursor()\n",
      "File \u001b[1;32m~\\anaconda3\\lib\\site-packages\\mysql\\connector\\__init__.py:272\u001b[0m, in \u001b[0;36mconnect\u001b[1;34m(*args, **kwargs)\u001b[0m\n\u001b[0;32m    269\u001b[0m         \u001b[38;5;28;01mraise\u001b[39;00m \u001b[38;5;167;01mImportError\u001b[39;00m(ERROR_NO_CEXT)\n\u001b[0;32m    271\u001b[0m \u001b[38;5;28;01mif\u001b[39;00m HAVE_CEXT \u001b[38;5;129;01mand\u001b[39;00m \u001b[38;5;129;01mnot\u001b[39;00m use_pure:\n\u001b[1;32m--> 272\u001b[0m     \u001b[38;5;28;01mreturn\u001b[39;00m CMySQLConnection(\u001b[38;5;241m*\u001b[39margs, \u001b[38;5;241m*\u001b[39m\u001b[38;5;241m*\u001b[39mkwargs)\n\u001b[0;32m    273\u001b[0m \u001b[38;5;28;01mreturn\u001b[39;00m MySQLConnection(\u001b[38;5;241m*\u001b[39margs, \u001b[38;5;241m*\u001b[39m\u001b[38;5;241m*\u001b[39mkwargs)\n",
      "File \u001b[1;32m~\\anaconda3\\lib\\site-packages\\mysql\\connector\\connection_cext.py:94\u001b[0m, in \u001b[0;36mCMySQLConnection.__init__\u001b[1;34m(self, **kwargs)\u001b[0m\n\u001b[0;32m     91\u001b[0m \u001b[38;5;28msuper\u001b[39m(CMySQLConnection, \u001b[38;5;28mself\u001b[39m)\u001b[38;5;241m.\u001b[39m\u001b[38;5;21m__init__\u001b[39m(\u001b[38;5;241m*\u001b[39m\u001b[38;5;241m*\u001b[39mkwargs)\n\u001b[0;32m     93\u001b[0m \u001b[38;5;28;01mif\u001b[39;00m kwargs:\n\u001b[1;32m---> 94\u001b[0m     \u001b[38;5;28mself\u001b[39m\u001b[38;5;241m.\u001b[39mconnect(\u001b[38;5;241m*\u001b[39m\u001b[38;5;241m*\u001b[39mkwargs)\n",
      "File \u001b[1;32m~\\anaconda3\\lib\\site-packages\\mysql\\connector\\abstracts.py:1052\u001b[0m, in \u001b[0;36mMySQLConnectionAbstract.connect\u001b[1;34m(self, **kwargs)\u001b[0m\n\u001b[0;32m   1049\u001b[0m     \u001b[38;5;28mself\u001b[39m\u001b[38;5;241m.\u001b[39mconfig(\u001b[38;5;241m*\u001b[39m\u001b[38;5;241m*\u001b[39mkwargs)\n\u001b[0;32m   1051\u001b[0m \u001b[38;5;28mself\u001b[39m\u001b[38;5;241m.\u001b[39mdisconnect()\n\u001b[1;32m-> 1052\u001b[0m \u001b[38;5;28;43mself\u001b[39;49m\u001b[38;5;241;43m.\u001b[39;49m\u001b[43m_open_connection\u001b[49m\u001b[43m(\u001b[49m\u001b[43m)\u001b[49m\n\u001b[0;32m   1053\u001b[0m \u001b[38;5;66;03m# Server does not allow to run any other statement different from ALTER\u001b[39;00m\n\u001b[0;32m   1054\u001b[0m \u001b[38;5;66;03m# when user's password has been expired.\u001b[39;00m\n\u001b[0;32m   1055\u001b[0m \u001b[38;5;28;01mif\u001b[39;00m \u001b[38;5;129;01mnot\u001b[39;00m \u001b[38;5;28mself\u001b[39m\u001b[38;5;241m.\u001b[39m_client_flags \u001b[38;5;241m&\u001b[39m ClientFlag\u001b[38;5;241m.\u001b[39mCAN_HANDLE_EXPIRED_PASSWORDS:\n",
      "File \u001b[1;32m~\\anaconda3\\lib\\site-packages\\mysql\\connector\\connection_cext.py:251\u001b[0m, in \u001b[0;36mCMySQLConnection._open_connection\u001b[1;34m(self)\u001b[0m\n\u001b[0;32m    249\u001b[0m         \u001b[38;5;28mself\u001b[39m\u001b[38;5;241m.\u001b[39mconverter\u001b[38;5;241m.\u001b[39mstr_fallback \u001b[38;5;241m=\u001b[39m \u001b[38;5;28mself\u001b[39m\u001b[38;5;241m.\u001b[39m_converter_str_fallback\n\u001b[0;32m    250\u001b[0m \u001b[38;5;28;01mexcept\u001b[39;00m MySQLInterfaceError \u001b[38;5;28;01mas\u001b[39;00m exc:\n\u001b[1;32m--> 251\u001b[0m     \u001b[38;5;28;01mraise\u001b[39;00m errors\u001b[38;5;241m.\u001b[39mget_mysql_exception(msg\u001b[38;5;241m=\u001b[39mexc\u001b[38;5;241m.\u001b[39mmsg, errno\u001b[38;5;241m=\u001b[39mexc\u001b[38;5;241m.\u001b[39merrno,\n\u001b[0;32m    252\u001b[0m                                      sqlstate\u001b[38;5;241m=\u001b[39mexc\u001b[38;5;241m.\u001b[39msqlstate)\n\u001b[0;32m    254\u001b[0m \u001b[38;5;28mself\u001b[39m\u001b[38;5;241m.\u001b[39m_do_handshake()\n",
      "\u001b[1;31mProgrammingError\u001b[0m: 1045 (28000): Access denied for user 'username'@'localhost' (using password: YES)"
     ]
    }
   ],
   "source": [
    "import mysql.connector\n",
    "\n",
    "# establish connection to MySQL server\n",
    "mydb = mysql.connector.connect(\n",
    "  host=\"localhost\",\n",
    "  user=\"username\",\n",
    "  password=\"password\",\n",
    "  database=\"database_name\"\n",
    ")\n",
    "\n",
    "# create a cursor object\n",
    "mycursor = mydb.cursor()\n",
    "\n",
    "# execute a SELECT query\n",
    "mycursor.execute(\"SELECT * FROM customers\")\n",
    "\n",
    "# fetch the results\n",
    "myresult = mycursor.fetchall()\n",
    "\n",
    "# print the results\n",
    "for row in myresult:\n",
    "  print(row)\n"
   ]
  },
  {
   "cell_type": "markdown",
   "id": "4e487ce1",
   "metadata": {},
   "source": [
    "ans 7:\n",
    "The order of execution of SQL clauses in an SQL query is as follows:\n",
    "\n",
    "FROM: This clause specifies the table or tables from which to retrieve data.\n",
    "\n",
    "JOIN: If multiple tables are specified in the FROM clause, the JOIN clause is used to specify the type of join to use and the join condition.\n",
    "\n",
    "WHERE: This clause is used to filter the rows returned by the query based on a condition.\n",
    "\n",
    "GROUP BY: This clause is used to group the rows returned by the query based on one or more columns.\n",
    "\n",
    "HAVING: This clause is used to filter the groups returned by the query based on a condition.\n",
    "\n",
    "SELECT: This clause specifies the columns to be retrieved from the table or tables specified in the FROM clause.\n",
    "\n",
    "DISTINCT: This clause is used to eliminate duplicate rows from the result set.\n",
    "\n",
    "ORDER BY: This clause is used to sort the result set based on one or more columns.\n",
    "\n",
    "LIMIT: This clause is used to limit the number of rows returned by the query.\n",
    "\n",
    "Note that not all of these clauses are required in every SQL query. The minimum requirement is a SELECT statement with a FROM clause, but other clauses may be included as needed to filter, group, or sort the data returned by the query."
   ]
  },
  {
   "cell_type": "code",
   "execution_count": null,
   "id": "4341a7ec",
   "metadata": {},
   "outputs": [],
   "source": []
  }
 ],
 "metadata": {
  "kernelspec": {
   "display_name": "Python 3 (ipykernel)",
   "language": "python",
   "name": "python3"
  },
  "language_info": {
   "codemirror_mode": {
    "name": "ipython",
    "version": 3
   },
   "file_extension": ".py",
   "mimetype": "text/x-python",
   "name": "python",
   "nbconvert_exporter": "python",
   "pygments_lexer": "ipython3",
   "version": "3.9.12"
  }
 },
 "nbformat": 4,
 "nbformat_minor": 5
}
