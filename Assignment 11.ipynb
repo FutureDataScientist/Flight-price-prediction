{
 "cells": [
  {
   "cell_type": "markdown",
   "id": "fe509229",
   "metadata": {},
   "source": [
    "# Assignment 11"
   ]
  },
  {
   "cell_type": "markdown",
   "id": "fc706e34",
   "metadata": {},
   "source": [
    "ans 1:\n",
    "    an Exception is an error that occurs during the execution of a program that disrupts the normal flow of code execution. When an Exception occurs, the interpreter throws an Exception object, which can be caught and handled by the program.\n",
    "\n",
    "There are many types of Exceptions in Python, such as IndexError, TypeError, ValueError, and so on. Each Exception type indicates a specific error condition that has occurred, such as an attempt to access an index that doesn't exist in a list or a division by zero.\n",
    "\n",
    "On the other hand, Syntax errors are errors that occur when you violate the rules of Python syntax. These errors are caught by the interpreter during the parsing of the code and prevent the code from running at all. Examples of syntax errors include forgetting a colon at the end of a line in a function definition or using an undefined variable.\n",
    "\n",
    "The main difference between Exceptions and syntax errors is that Exceptions occur during the execution of a program, while syntax errors occur during the parsing of the code. Additionally, syntax errors are always fatal and prevent the program from running at all, while Exceptions can be caught and handled by the program to allow it to continue running."
   ]
  },
  {
   "cell_type": "code",
   "execution_count": null,
   "id": "36beb977",
   "metadata": {},
   "outputs": [],
   "source": []
  },
  {
   "cell_type": "markdown",
   "id": "3b5a644c",
   "metadata": {},
   "source": [
    "ans 2:When an Exception is not handled in Python, it will result in an error message being printed to the console, and the program will terminate abruptly. This can be problematic if the program is running in a production environment where it is critical that the program stays up and running.\n",
    "\n",
    "Here is an example of what happens when an Exception is not handled:\n",
    "\n",
    "\n"
   ]
  },
  {
   "cell_type": "code",
   "execution_count": 1,
   "id": "df2ac244",
   "metadata": {},
   "outputs": [
    {
     "ename": "ZeroDivisionError",
     "evalue": "division by zero",
     "output_type": "error",
     "traceback": [
      "\u001b[1;31m---------------------------------------------------------------------------\u001b[0m",
      "\u001b[1;31mZeroDivisionError\u001b[0m                         Traceback (most recent call last)",
      "Input \u001b[1;32mIn [1]\u001b[0m, in \u001b[0;36m<cell line: 4>\u001b[1;34m()\u001b[0m\n\u001b[0;32m      1\u001b[0m \u001b[38;5;28;01mdef\u001b[39;00m \u001b[38;5;21mdivide\u001b[39m(x, y):\n\u001b[0;32m      2\u001b[0m     \u001b[38;5;28;01mreturn\u001b[39;00m x \u001b[38;5;241m/\u001b[39m y\n\u001b[1;32m----> 4\u001b[0m result \u001b[38;5;241m=\u001b[39m \u001b[43mdivide\u001b[49m\u001b[43m(\u001b[49m\u001b[38;5;241;43m10\u001b[39;49m\u001b[43m,\u001b[49m\u001b[43m \u001b[49m\u001b[38;5;241;43m0\u001b[39;49m\u001b[43m)\u001b[49m\n\u001b[0;32m      5\u001b[0m \u001b[38;5;28mprint\u001b[39m(result)\n",
      "Input \u001b[1;32mIn [1]\u001b[0m, in \u001b[0;36mdivide\u001b[1;34m(x, y)\u001b[0m\n\u001b[0;32m      1\u001b[0m \u001b[38;5;28;01mdef\u001b[39;00m \u001b[38;5;21mdivide\u001b[39m(x, y):\n\u001b[1;32m----> 2\u001b[0m     \u001b[38;5;28;01mreturn\u001b[39;00m \u001b[43mx\u001b[49m\u001b[43m \u001b[49m\u001b[38;5;241;43m/\u001b[39;49m\u001b[43m \u001b[49m\u001b[43my\u001b[49m\n",
      "\u001b[1;31mZeroDivisionError\u001b[0m: division by zero"
     ]
    }
   ],
   "source": [
    "def divide(x, y):\n",
    "    return x / y\n",
    "\n",
    "result = divide(10, 0)\n",
    "print(result)\n"
   ]
  },
  {
   "cell_type": "code",
   "execution_count": null,
   "id": "a702d4ff",
   "metadata": {},
   "outputs": [],
   "source": [
    "\n"
   ]
  },
  {
   "cell_type": "markdown",
   "id": "7712f6be",
   "metadata": {},
   "source": [
    "ans 3:\n",
    "In Python, you can catch and handle Exceptions using the try and except statements. The try statement is used to enclose a block of code that may raise an Exception, while the except statement is used to define how to handle the Exception that is raised.\n",
    "\n",
    "Here is an example of how to catch and handle an Exception using try and except statements:"
   ]
  },
  {
   "cell_type": "code",
   "execution_count": 4,
   "id": "5543599b",
   "metadata": {},
   "outputs": [
    {
     "name": "stdout",
     "output_type": "stream",
     "text": [
      "Cannot divide by zero!\n"
     ]
    }
   ],
   "source": [
    "def divide(x, y):\n",
    "    try:\n",
    "        result = x / y\n",
    "        print(result)\n",
    "    except ZeroDivisionError:\n",
    "        print(\"Cannot divide by zero!\")\n",
    "\n",
    "divide(10, 0)\n"
   ]
  },
  {
   "cell_type": "code",
   "execution_count": null,
   "id": "f24ce9c3",
   "metadata": {},
   "outputs": [],
   "source": []
  },
  {
   "cell_type": "markdown",
   "id": "cfa70c60",
   "metadata": {},
   "source": [
    "ans 4:\n",
    "In Python, the \"try\", \"else\", and \"finally\" keywords are commonly used for exception handling. The \"raise\" keyword is used to raise an exception manually in Python. Here's an example that demonstrates how these keywords can be used together:"
   ]
  },
  {
   "cell_type": "code",
   "execution_count": 2,
   "id": "b6763075",
   "metadata": {},
   "outputs": [
    {
     "name": "stdout",
     "output_type": "stream",
     "text": [
      "Enter a positive integer: 1\n",
      "You entered: 1\n",
      "No exception occurred.\n",
      "This block of code will always execute, regardless of whether an exception occurred or not.\n"
     ]
    }
   ],
   "source": [
    "try:\n",
    "    x = int(input(\"Enter a positive integer: \"))\n",
    "    if x < 0:\n",
    "        raise ValueError(\"Number must be positive\")\n",
    "    print(\"You entered:\", x)\n",
    "except ValueError as e:\n",
    "    print(e)\n",
    "else:\n",
    "    print(\"No exception occurred.\")\n",
    "finally:\n",
    "    print(\"This block of code will always execute, regardless of whether an exception occurred or not.\")\n",
    "    if x % 2 == 0:\n",
    "        raise ValueError(\"Even number detected.\")\n"
   ]
  },
  {
   "cell_type": "code",
   "execution_count": null,
   "id": "583b69f8",
   "metadata": {},
   "outputs": [],
   "source": []
  },
  {
   "cell_type": "markdown",
   "id": "59ff22a5",
   "metadata": {},
   "source": [
    "ans 5:\n",
    "n Python, you can define your own custom exceptions by creating a new class that inherits from the built-in Exception class. Custom exceptions can be useful when you want to raise an exception that is specific to your program or module, and which provides more information about the error than a built-in exception would.\n",
    "\n",
    "Here's an example that demonstrates how to create a custom exception in Python:"
   ]
  },
  {
   "cell_type": "code",
   "execution_count": 3,
   "id": "651bd6e3",
   "metadata": {},
   "outputs": [],
   "source": [
    "class NegativeNumberError(Exception):\n",
    "    def __init__(self, number):\n",
    "        self.number = number\n",
    "        self.message = \"Number must be positive\"\n",
    "        super().__init__(self.message)\n",
    "\n",
    "    def __str__(self):\n",
    "        return f\"{self.number} is negative. {self.message}\"\n"
   ]
  },
  {
   "cell_type": "code",
   "execution_count": 4,
   "id": "f75f5fa8",
   "metadata": {},
   "outputs": [
    {
     "name": "stdout",
     "output_type": "stream",
     "text": [
      "-9 is negative. Number must be positive\n"
     ]
    }
   ],
   "source": [
    "def square_root(number):\n",
    "    if number < 0:\n",
    "        raise NegativeNumberError(number)\n",
    "    else:\n",
    "        return number ** 0.5\n",
    "\n",
    "try:\n",
    "    result = square_root(-9)\n",
    "    print(result)\n",
    "except NegativeNumberError as e:\n",
    "    print(e)\n"
   ]
  },
  {
   "cell_type": "code",
   "execution_count": null,
   "id": "3ef83c76",
   "metadata": {},
   "outputs": [],
   "source": []
  },
  {
   "cell_type": "markdown",
   "id": "6a07be03",
   "metadata": {},
   "source": [
    "ans 6:\n",
    "here's an example of how to create a custom exception class and use it to handle an exception:"
   ]
  },
  {
   "cell_type": "code",
   "execution_count": 5,
   "id": "119470e2",
   "metadata": {},
   "outputs": [
    {
     "name": "stdout",
     "output_type": "stream",
     "text": [
      "Insufficient funds: Available balance is 1000, but attempted to withdraw 1500.\n"
     ]
    }
   ],
   "source": [
    "class InsufficientFundsError(Exception):\n",
    "    def __init__(self, balance, amount):\n",
    "        self.balance = balance\n",
    "        self.amount = amount\n",
    "        self.message = \"Insufficient funds\"\n",
    "        super().__init__(self.message)\n",
    "\n",
    "    def __str__(self):\n",
    "        return f\"{self.message}: Available balance is {self.balance}, but attempted to withdraw {self.amount}.\"\n",
    "\n",
    "def withdraw(balance, amount):\n",
    "    if amount > balance:\n",
    "        raise InsufficientFundsError(balance, amount)\n",
    "    else:\n",
    "        return balance - amount\n",
    "\n",
    "try:\n",
    "    balance = 1000\n",
    "    amount = 1500\n",
    "    new_balance = withdraw(balance, amount)\n",
    "    print(f\"Withdrew {amount} from balance {balance}. New balance is {new_balance}.\")\n",
    "except InsufficientFundsError as e:\n",
    "    print(e)\n"
   ]
  },
  {
   "cell_type": "code",
   "execution_count": null,
   "id": "b700ea44",
   "metadata": {},
   "outputs": [],
   "source": []
  }
 ],
 "metadata": {
  "kernelspec": {
   "display_name": "Python 3 (ipykernel)",
   "language": "python",
   "name": "python3"
  },
  "language_info": {
   "codemirror_mode": {
    "name": "ipython",
    "version": 3
   },
   "file_extension": ".py",
   "mimetype": "text/x-python",
   "name": "python",
   "nbconvert_exporter": "python",
   "pygments_lexer": "ipython3",
   "version": "3.9.12"
  }
 },
 "nbformat": 4,
 "nbformat_minor": 5
}
