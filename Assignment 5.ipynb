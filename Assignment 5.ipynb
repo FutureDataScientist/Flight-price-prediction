{
 "cells": [
  {
   "cell_type": "markdown",
   "id": "74b2057a",
   "metadata": {},
   "source": [
    "# Assignment 5"
   ]
  },
  {
   "cell_type": "markdown",
   "id": "4841e2a7",
   "metadata": {},
   "source": [
    "# ans 1:\n",
    "Python was developed by Guido van Rossum, a Dutch programmer, in the late 1980s. The language was first released in 1991 and has since become one of the most popular programming languages in use today. Van Rossum named the language after the comedy troupe Monty Python."
   ]
  },
  {
   "cell_type": "code",
   "execution_count": null,
   "id": "61bd5ea4",
   "metadata": {},
   "outputs": [],
   "source": []
  },
  {
   "cell_type": "markdown",
   "id": "570b7480",
   "metadata": {},
   "source": [
    "Ans 2:\n",
    "    Python is a general-purpose programming language that supports multiple programming paradigms, including:\n",
    "\n",
    "Procedural Programming: Python supports procedural programming, which involves breaking a program down into smaller, more manageable pieces called functions.\n",
    "\n",
    "Object-Oriented Programming (OOP): Python also supports object-oriented programming (OOP), which involves organizing a program around objects and data, rather than functions and logic.\n",
    "\n",
    "Functional Programming: Python supports functional programming, which involves using functions to perform tasks and avoiding changing state and mutable data.\n",
    "\n",
    "Imperative Programming: Python supports imperative programming, which involves using statements to change the state of a program.\n",
    "\n",
    "Python's flexibility and versatility make it suitable for a wide range of programming tasks, from web development and scientific computing to artificial intelligence and data analysis."
   ]
  },
  {
   "cell_type": "code",
   "execution_count": null,
   "id": "1dade43b",
   "metadata": {},
   "outputs": [],
   "source": []
  },
  {
   "cell_type": "markdown",
   "id": "4aedcbe7",
   "metadata": {},
   "source": [
    "ans 3:Yes, Python is case sensitive when dealing with identifiers such as variable names, function names, and class names. This means that uppercase and lowercase letters are treated as distinct characters, and using the wrong case in an identifier will result in a syntax error.\n",
    "\n",
    "For example, the variable names \"myVariable\" and \"myvariable\" would be considered two different variables in Python, and attempting to use one where the other is expected would result in an error.\n",
    "\n",
    "It is important to be consistent in your use of casing when writing Python code, and to use descriptive names that make the purpose of each identifier clear."
   ]
  },
  {
   "cell_type": "code",
   "execution_count": null,
   "id": "71f215d6",
   "metadata": {},
   "outputs": [],
   "source": []
  },
  {
   "cell_type": "markdown",
   "id": "2e3d9ffb",
   "metadata": {},
   "source": [
    "Ans 4:The correct extension for a Python file is \".py\". When you save a Python program, you should give it a name that ends with \".py\", such as \"my_program.py\".\n",
    "\n",
    "This extension tells your operating system that the file contains Python code, and helps Python identify files that it should attempt to execute. When you run a Python program, you can either specify the full filename, including the extension, or you can omit the extension and let Python assume that it is a Python file.\n",
    "\n",
    "It is important to use the correct file extension when working with Python, as it ensures that your files are recognized as Python code and allows other developers and tools to easily identify the type of code contained within the file."
   ]
  },
  {
   "cell_type": "code",
   "execution_count": null,
   "id": "6a49ed25",
   "metadata": {},
   "outputs": [],
   "source": []
  },
  {
   "cell_type": "markdown",
   "id": "ca319371",
   "metadata": {},
   "source": [
    "ans 5:Python is an interpreted language, which means that the Python code is executed by an interpreter without being compiled into machine code. When you run a Python program, the interpreter reads the code line by line, interprets each line, and executes it.\n",
    "\n",
    "However, Python code can also be compiled into bytecode, which is a low-level code that is executed by a Python virtual machine. When you run a Python program, the interpreter first compiles the code into bytecode and then executes it. The bytecode is saved in \".pyc\" files, which are used to speed up the execution of frequently used modules by caching the compiled bytecode.\n",
    "\n",
    "So, although Python is primarily an interpreted language, it uses a combination of interpretation and bytecode compilation to execute Python code. This allows Python to provide a balance of ease of use and performance."
   ]
  },
  {
   "cell_type": "markdown",
   "id": "7bfa9f9f",
   "metadata": {},
   "source": [
    "ans 6:In Python, blocks of code are defined by their indentation level rather than using brackets or other symbols. Here are a few examples of code blocks in Python:\n",
    "\n",
    "Function Definition Block: A block of code used to define a function in Python. It starts with the \"def\" keyword, followed by the function name, parameters, and a colon (:). The code inside the block is indented and defines the logic of the function.\n",
    "    Loop Block: A block of code used to define a loop in Python. It starts with a keyword such as \"for\" or \"while\", followed by a condition and a colon (:). The code inside the block is indented and defines the logic of the loop.\n",
    "        Conditional Block: A block of code used to define a conditional statement in Python. It starts with the \"if\" keyword, followed by a condition and a colon (:). The code inside the block is indented and defines the logic of the conditional statement.\n",
    "python\n"
   ]
  },
  {
   "cell_type": "code",
   "execution_count": null,
   "id": "498a68c5",
   "metadata": {},
   "outputs": [],
   "source": []
  },
  {
   "cell_type": "markdown",
   "id": "ace3ace7",
   "metadata": {},
   "source": [
    "ans 7:\n",
    "In Python, the character used to give single-line comments is the hash symbol (#).\n",
    "\n",
    "Any text following the hash symbol on a line is treated as a comment and ignored by the Python interpreter. Here is an example of a single-line comment in Python:\n",
    "    "
   ]
  },
  {
   "cell_type": "markdown",
   "id": "8987827d",
   "metadata": {},
   "source": [
    "ans 9:python supports the creation of anonymous functions at runtime using a construct called \"lambda\" functions.\n",
    "\n",
    "Lambda functions are a way to create small, anonymous functions in Python. They are called \"anonymous\" functions because they don't have a name like a regular function. Instead, they are defined using the lambda keyword, followed by a set of arguments, a colon, and an expression that defines the function's logic."
   ]
  },
  {
   "cell_type": "code",
   "execution_count": null,
   "id": "31b95248",
   "metadata": {},
   "outputs": [],
   "source": []
  },
  {
   "cell_type": "markdown",
   "id": "0795f9f7",
   "metadata": {},
   "source": [
    "ans 10:Pip\" stands for \"Pip Installs Packages\". It is a package management system used to install and manage software packages written in Python. Pip is the standard package manager for Python, and it allows you to easily install and manage third-party packages and libraries for use in your Python projects. Pip can also be used to upgrade or remove packages, as well as to list the packages currently installed in your Python environment."
   ]
  },
  {
   "cell_type": "markdown",
   "id": "586a154b",
   "metadata": {},
   "source": [
    "ans 11:here are a few built-in functions in Python:\n",
    "\n",
    "print(): prints the specified message to the console.\n",
    "len(): returns the length (number of items) of an object.\n",
    "type(): returns the type of an object.\n",
    "range(): returns a sequence of numbers, starting from 0 and incrementing by 1 (by default), and ending at a specified number.\n",
    "input(): prompts the user to enter a value, and returns the user's input as a string.\n",
    "int(): converts a specified value to an integer.\n",
    "float(): converts a specified value to a floating-point number.\n",
    "str(): converts a specified value to a string.\n",
    "list(): converts a specified iterable (such as a string or tuple) to a list.\n",
    "dict(): creates a new dictionary object.\n",
    "set(): creates a new set object.\n",
    "sorted(): returns a sorted version of a specified iterable.\n",
    "max(): returns the largest item in a specified iterable.\n",
    "min(): returns the smallest item in a specified iterable.\n",
    "sum(): returns the sum of all items in a specified iterable."
   ]
  },
  {
   "cell_type": "markdown",
   "id": "c55c2980",
   "metadata": {},
   "source": [
    " ans 8:here are a few functions that can help you find the version of Python you are currently working on:\n",
    "\n",
    "sys.version: This function returns a string that contains the version number of the Python interpreter.\n",
    "python\n",
    "platform.python_version(): This function returns a string that contains the version number of the Python interpreter and the version number of the underlying platform.\n",
    "python\n",
    "sys.version_info: This function returns a tuple that contains the major, minor, and micro version numbers of the Python interpreter.\n",
    "python\n",
    "\n",
    "\n",
    "\n",
    "\n",
    "\n",
    "\n"
   ]
  },
  {
   "cell_type": "code",
   "execution_count": null,
   "id": "0b8b0572",
   "metadata": {},
   "outputs": [],
   "source": []
  },
  {
   "cell_type": "markdown",
   "id": "eeec7cdb",
   "metadata": {},
   "source": [
    "ans 12:In Python, the maximum length of an identifier (variable name, function name, etc.) is not explicitly defined. However, PEP 8 style guide recommends keeping the maximum length of an identifier to be 79 characters to ensure readability.\n",
    "\n",
    "In practice, the length of an identifier is limited by the memory available on the system. If an identifier is too long, it may cause memory errors or other issues.\n",
    "\n",
    "It's important to note that Python identifiers must also follow certain naming conventions, such as starting with a letter or underscore, containing only letters, digits, and underscores, and not being a reserved keyword.\n",
    "\n",
    "\n",
    "\n"
   ]
  },
  {
   "cell_type": "code",
   "execution_count": null,
   "id": "4f6a8450",
   "metadata": {},
   "outputs": [],
   "source": []
  },
  {
   "cell_type": "markdown",
   "id": "32163f9f",
   "metadata": {},
   "source": [
    "ans 13:Python is a high-level, interpreted programming language that is popular for its simplicity, readability, and versatility. Here are some benefits of using Python:\n",
    "\n",
    "Easy to Learn and Read: Python has a simple and consistent syntax that makes it easy to learn and read, even for beginners. Its code is easy to understand and maintain, making it an excellent choice for collaborative projects.\n",
    "\n",
    "Large Standard Library: Python has a vast standard library that contains a wide range of modules and functions for various tasks such as web development, data analysis, scientific computing, machine learning, and more. This makes it easier for developers to work on different projects without the need for external libraries.\n",
    "\n",
    "Platform Independent: Python is a platform-independent language, which means that code written on one platform can be easily executed on another platform. This makes it an excellent choice for building cross-platform applications.\n",
    "\n",
    "Large Community and Support: Python has a large and active community of developers who provide support, documentation, and updates to the language. This makes it easy for developers to get help when they need it and find solutions to their problems.\n",
    "\n",
    "Extensive Third-Party Libraries: Python has an extensive collection of third-party libraries and tools, such as NumPy, Pandas, Matplotlib, and Django, that make it easier to perform complex tasks such as data analysis, visualization, and web development.\n",
    "\n",
    "Rapid Development: Python's simplicity and ease of use make it ideal for rapid application development. It allows developers to write code quickly, test it, and deploy it faster than other programming languages.\n",
    "\n",
    "High Salary and Career Opportunities: Python is in high demand in the tech industry and is used in various domains such as data science, machine learning, artificial intelligence, web development, and more. This makes it an attractive language to learn for developers and offers high-paying job opportunities.\n",
    "\n",
    "Overall, Python's simplicity, versatility, and extensive libraries make it a popular choice for developers, researchers, and hobbyists alike.\n",
    "\n",
    "\n",
    "\n"
   ]
  },
  {
   "cell_type": "markdown",
   "id": "612b8ba5",
   "metadata": {},
   "source": [
    "ans 14:Memory management in Python is handled by the Python memory manager, which uses a private heap to store objects. The memory manager in Python is responsible for allocating and deallocating memory for objects, managing memory buffers, and handling memory errors.\n",
    "\n",
    "The Python memory manager has two main components: the Python Object Allocator and the Python Memory Manager.\n",
    "\n",
    "The Python Object Allocator is responsible for allocating memory for Python objects. It requests memory from the memory manager in blocks, which are then divided into smaller chunks to store objects.\n",
    "\n",
    "The Python Memory Manager is responsible for managing the overall memory usage of the Python program. It is responsible for allocating and deallocating memory for the Python interpreter, including the heap, stack, and code segments.\n",
    "\n",
    "Python uses a garbage collector to manage memory, which automatically frees up memory for objects that are no longer being used. The garbage collector periodically scans the heap for objects that are no longer referenced by any variables or data structures in the program. These objects are then marked for deallocation by the memory manager.\n",
    "\n",
    "Python also uses a reference counting mechanism to manage memory. Every object in Python has a reference count, which is the number of variables and data structures that refer to it. When the reference count of an object becomes zero, it is automatically deallocated by the memory manager."
   ]
  },
  {
   "cell_type": "code",
   "execution_count": null,
   "id": "9e025cc0",
   "metadata": {},
   "outputs": [],
   "source": []
  },
  {
   "cell_type": "markdown",
   "id": "388059e7",
   "metadata": {},
   "source": [
    "ans 15:Here are the steps to install Python on Windows and set path variables:\n",
    "\n",
    "Download Python Installer: Download the Python installer from the official Python website (https://www.python.org/downloads/windows/).\n",
    "\n",
    "Run the Installer: Double-click the downloaded file to start the Python installer.\n",
    "\n",
    "Select Install Location: Choose a location to install Python on your computer. The default location is usually fine, but you can choose a different location if you prefer.\n",
    "\n",
    "Select Components: Select the components you want to install. It is recommended to install all components to have a complete Python installation.\n",
    "\n",
    "Add Python to PATH: Select the \"Add Python to PATH\" option to add Python to the system path. This will allow you to run Python from the command prompt without having to specify the full path.\n",
    "\n",
    "Complete Installation: Click \"Install\" to begin the installation process. Once the installation is complete, you can start using Python.\n",
    "\n",
    "Verify Installation: Open the command prompt and type \"python --version\" to check the version of Python installed on your system.\n",
    "\n",
    "To set the PATH variable for Python:\n",
    "\n",
    "Open the Start menu and search for \"Environment Variables\".\n",
    "\n",
    "Click on \"Edit the system environment variables\".\n",
    "\n",
    "Click on the \"Environment Variables\" button.\n",
    "\n",
    "Under \"System Variables\", scroll down and find the \"Path\" variable.\n",
    "\n",
    "Click \"Edit\" to add a new path.\n",
    "\n",
    "Add the path to the Python installation folder, usually \"C:\\PythonXX\" where \"XX\" is the version number.\n",
    "\n",
    "Click \"OK\" to save the changes.\n",
    "\n",
    "Once you have set the PATH variable, you can run Python from the command prompt by typing \"python\" without specifying the full path.\n",
    "\n",
    "\n",
    "\n",
    "\n",
    "\n"
   ]
  },
  {
   "cell_type": "code",
   "execution_count": null,
   "id": "7245b78b",
   "metadata": {},
   "outputs": [],
   "source": []
  },
  {
   "cell_type": "markdown",
   "id": "723dedba",
   "metadata": {},
   "source": [
    "ans 16:Yes, indentation is required in Python. In Python, indentation is used to define the scope of blocks of code. Unlike other programming languages, where curly braces or other symbols are used to define the start and end of blocks of code, Python uses indentation.\n",
    "\n",
    "Indentation is used to group statements together in a block. A block is a group of statements that execute together as a unit. The statements in a block must have the same level of indentation, and the block must be indented more than the preceding statement. The most common use of indentation is to define the body of control structures such as loops and conditional statements."
   ]
  },
  {
   "cell_type": "code",
   "execution_count": null,
   "id": "05f3e4ef",
   "metadata": {},
   "outputs": [],
   "source": []
  }
 ],
 "metadata": {
  "kernelspec": {
   "display_name": "Python 3 (ipykernel)",
   "language": "python",
   "name": "python3"
  },
  "language_info": {
   "codemirror_mode": {
    "name": "ipython",
    "version": 3
   },
   "file_extension": ".py",
   "mimetype": "text/x-python",
   "name": "python",
   "nbconvert_exporter": "python",
   "pygments_lexer": "ipython3",
   "version": "3.9.12"
  }
 },
 "nbformat": 4,
 "nbformat_minor": 5
}
