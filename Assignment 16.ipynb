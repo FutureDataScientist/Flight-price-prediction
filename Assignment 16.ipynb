{
 "cells": [
  {
   "cell_type": "markdown",
   "id": "49978c58",
   "metadata": {},
   "source": [
    "# Assignment 16"
   ]
  },
  {
   "cell_type": "markdown",
   "id": "ac7500e4",
   "metadata": {},
   "source": [
    "ans 1:\n",
    "MongoDB is a popular non-relational database management system that is designed to handle unstructured and semi-structured data. Unlike traditional SQL databases, which are relational, MongoDB stores data in collections of flexible, JSON-like documents. This makes it an ideal choice for applications that require a lot of flexibility and scalability.\n",
    "\n",
    "Non-relational databases, or NoSQL databases, are databases that are not based on the traditional relational database model. Instead of using tables with predefined columns and rows, NoSQL databases use flexible data models that can handle unstructured or semi-structured data. NoSQL databases are often more scalable and flexible than SQL databases, but may sacrifice some functionality or consistency guarantees in order to achieve this scalability.\n",
    "\n",
    "MongoDB is often preferred over SQL databases in scenarios where flexibility and scalability are more important than strict consistency guarantees. For example, MongoDB is a good choice for applications that handle large amounts of unstructured or semi-structured data, such as social media platforms or IoT applications. It is also a good choice for applications that require real-time data processing and analytics, as MongoDB supports rich querying and indexing capabilities that allow for fast data retrieval. However, if your application requires strict consistency guarantees or complex transactions, a SQL database may be a better choice.\n",
    "\n",
    "\n",
    "\n",
    "\n",
    "\n"
   ]
  },
  {
   "cell_type": "code",
   "execution_count": null,
   "id": "07dd61b8",
   "metadata": {},
   "outputs": [],
   "source": []
  },
  {
   "cell_type": "markdown",
   "id": "31e07acf",
   "metadata": {},
   "source": [
    "ans 2:\n",
    "MongoDB is a popular non-relational database management system that has a number of unique features that set it apart from traditional SQL databases. Some of the key features of MongoDB include:\n",
    "\n",
    "Document-oriented: MongoDB is a document-oriented database, which means that it stores data in documents rather than tables. Documents are JSON-like objects that can contain any number of fields, making MongoDB highly flexible and adaptable to changing data requirements.\n",
    "\n",
    "Dynamic schema: MongoDB's dynamic schema allows for easy updates to data structures without the need for expensive schema migrations. This makes MongoDB well-suited to agile development environments where requirements may change frequently.\n",
    "\n",
    "High performance: MongoDB is designed to be highly performant, with support for rich querying and indexing capabilities that allow for fast data retrieval.\n",
    "\n",
    "Horizontal scalability: MongoDB can be easily scaled horizontally across multiple servers or clusters, allowing it to handle large volumes of data and high traffic loads.\n",
    "\n",
    "Flexible data models: MongoDB supports a range of data models, including document, key-value, graph, and column-family. This makes it well-suited to a wide range of use cases, from social media platforms to IoT applications.\n",
    "\n",
    "Built-in replication and failover: MongoDB includes built-in replication and failover capabilities that help ensure high availability and data durability.\n",
    "\n",
    "Multi-language support: MongoDB supports a range of programming languages, including Java, Python, and JavaScript, making it easy to integrate with a wide range of applications."
   ]
  },
  {
   "cell_type": "code",
   "execution_count": null,
   "id": "1c8941a7",
   "metadata": {},
   "outputs": [],
   "source": []
  },
  {
   "cell_type": "markdown",
   "id": "1eb139cb",
   "metadata": {},
   "source": [
    "ans 3:\n",
    "    Here's an example code snippet that connects to MongoDB using Python and creates a database and a collection:"
   ]
  },
  {
   "cell_type": "code",
   "execution_count": 1,
   "id": "16b932a9",
   "metadata": {},
   "outputs": [
    {
     "name": "stdout",
     "output_type": "stream",
     "text": [
      "Collecting pymongo\n",
      "  Downloading pymongo-4.3.3-cp39-cp39-win_amd64.whl (382 kB)\n",
      "Collecting dnspython<3.0.0,>=1.16.0\n",
      "  Downloading dnspython-2.3.0-py3-none-any.whl (283 kB)\n",
      "Installing collected packages: dnspython, pymongo\n",
      "Successfully installed dnspython-2.3.0 pymongo-4.3.3\n",
      "Note: you may need to restart the kernel to use updated packages.\n"
     ]
    }
   ],
   "source": [
    "pip install pymongo"
   ]
  },
  {
   "cell_type": "code",
   "execution_count": 3,
   "id": "17285639",
   "metadata": {},
   "outputs": [],
   "source": [
    "\n",
    "client = pymongo.MongoClient(\"mongodb+srv://harshshukla675:<password>@cluster0.akdnirw.mongodb.net/?retryWrites=true&w=majority\")\n",
    "db = client.test\n",
    "\n"
   ]
  },
  {
   "cell_type": "code",
   "execution_count": 4,
   "id": "156f1565",
   "metadata": {},
   "outputs": [
    {
     "data": {
      "text/plain": [
       "MongoClient(host=['ac-z0bwhnp-shard-00-02.akdnirw.mongodb.net:27017', 'ac-z0bwhnp-shard-00-00.akdnirw.mongodb.net:27017', 'ac-z0bwhnp-shard-00-01.akdnirw.mongodb.net:27017'], document_class=dict, tz_aware=False, connect=True, retrywrites=True, w='majority', authsource='admin', replicaset='atlas-ox5bvy-shard-0', tls=True)"
      ]
     },
     "execution_count": 4,
     "metadata": {},
     "output_type": "execute_result"
    }
   ],
   "source": [
    "client"
   ]
  },
  {
   "cell_type": "code",
   "execution_count": null,
   "id": "7ee6f2aa",
   "metadata": {},
   "outputs": [],
   "source": [
    "import pymongo\n",
    "\n",
    "# Create a MongoClient object\n",
    "client = pymongo.MongoClient(\"mongodb+srv://harshshukla675:<password>@cluster0.akdnirw.mongodb.net/?retryWrites=true&w=majority\")\n",
    "\n",
    "# Create a new database called \"mydatabase\"\n",
    "mydb = client[\"mydatabase\"]\n",
    "\n",
    "# Create a new collection called \"customers\"\n",
    "mycol = mydb[\"customers\"]\n",
    "\n",
    "# Insert a new document into the \"customers\" collection\n",
    "mydict = { \"name\": \"John\", \"address\": \"Highway 37\" }\n",
    "x = mycol.insert_one(mydict)\n",
    "\n",
    "# Print the ID of the inserted document\n",
    "print(x.inserted_id)\n"
   ]
  },
  {
   "cell_type": "markdown",
   "id": "8913e0d4",
   "metadata": {},
   "source": [
    "ans 4:\n",
    "here's an example code snippet that demonstrates how to insert one record and multiple records into a MongoDB collection, and use the find() and find_one() methods to print the inserted record:"
   ]
  },
  {
   "cell_type": "code",
   "execution_count": null,
   "id": "baa66742",
   "metadata": {},
   "outputs": [],
   "source": [
    "import pymongo\n",
    "\n",
    "# Create a MongoClient object\n",
    "client = pymongo.MongoClient(\"mongodb+srv://harshshukla675:<password>@cluster0.akdnirw.mongodb.net/?retryWrites=true&w=majority\")\n",
    "\n",
    "# Create a new database called \"mydatabase\"\n",
    "mydb = client[\"mydatabase\"]\n",
    "\n",
    "# Create a new collection called \"customers\"\n",
    "mycol = mydb[\"customers\"]\n",
    "\n",
    "# Insert one record\n",
    "mydict = { \"name\": \"Jane\", \"address\": \"123 Main St\" }\n",
    "x = mycol.insert_one(mydict)\n",
    "\n",
    "# Insert many records\n",
    "mylist = [\n",
    "  { \"name\": \"Bob\", \"address\": \"456 Oak St\" },\n",
    "  { \"name\": \"Alice\", \"address\": \"789 Elm St\" },\n",
    "  { \"name\": \"Charlie\", \"address\": \"321 Pine St\" }\n",
    "]\n",
    "y = mycol.insert_many(mylist)\n",
    "\n",
    "# Find one record\n",
    "result = mycol.find_one()\n",
    "print(result)\n",
    "\n",
    "# Find all records\n",
    "results = mycol.find()\n",
    "for r in results:\n",
    "  print(r)\n"
   ]
  },
  {
   "cell_type": "code",
   "execution_count": null,
   "id": "5b9709e2",
   "metadata": {},
   "outputs": [],
   "source": []
  },
  {
   "cell_type": "markdown",
   "id": "1914f71f",
   "metadata": {},
   "source": [
    "ans 5:\n",
    "The find() method is used to retrieve documents from a MongoDB collection. It takes an optional query object as a parameter, which can be used to filter the results based on specific criteria. Here's a brief explanation of how to use the find() method in MongoDB:\n",
    "\n",
    "Call the find() method on the collection object you wish to query.\n",
    "Optionally, pass a query object to the find() method to filter the results based on specific criteria.\n",
    "Iterate over the results returned by the find() method, either using a for loop or a cursor object."
   ]
  },
  {
   "cell_type": "code",
   "execution_count": null,
   "id": "b4c5364e",
   "metadata": {},
   "outputs": [],
   "source": [
    "import pymongo\n",
    "\n",
    "# Create a MongoClient object\n",
    "client = pymongo.MongoClient(\"mongodb+srv://harshshukla675:<password>@cluster0.akdnirw.mongodb.net/?retryWrites=true&w=majority\")\n",
    "# Create a new database called \"mydatabase\"\n",
    "mydb = client[\"mydatabase\"]\n",
    "\n",
    "# Create a new collection called \"customers\"\n",
    "mycol = mydb[\"customers\"]\n",
    "\n",
    "# Insert some sample data\n",
    "mycol.insert_many([\n",
    "  { \"name\": \"John\", \"address\": \"123 Main St\" },\n",
    "  { \"name\": \"Jane\", \"address\": \"456 Oak St\" },\n",
    " { \"name\": \"Bob\", \"address\": \"789 Elm St\" } \n",
    "])\n",
    "\n",
    "# Query the \"customers\" collection and print the results\n",
    "results = mycol.find()\n",
    "for r in results:\n",
    "  print(r)\n"
   ]
  },
  {
   "cell_type": "code",
   "execution_count": null,
   "id": "1b582ebf",
   "metadata": {},
   "outputs": [],
   "source": []
  },
  {
   "cell_type": "markdown",
   "id": "06fa2a36",
   "metadata": {},
   "source": [
    "ans 6:\n",
    "The sort() method in MongoDB is used to sort the documents in a collection based on a specified sort key. This method takes an optional parameter, which is an object specifying the field(s) to sort by and the order in which to sort them.\n",
    "\n",
    "The syntax of the sort() method is as follows:\n",
    "\n",
    "\n"
   ]
  },
  {
   "cell_type": "markdown",
   "id": "da431b0e",
   "metadata": {},
   "source": [
    "db.collection.find().sort({field: order})"
   ]
  },
  {
   "cell_type": "code",
   "execution_count": null,
   "id": "e54529f7",
   "metadata": {},
   "outputs": [],
   "source": [
    "import pymongo\n",
    "\n",
    "\n",
    "client = pymongo.MongoClient(\"mongodb://localhost:27017/\")\n",
    "\n",
    "# Create a new database called \"mydatabase\"\n",
    "mydb = client[\"mydatabase\"]\n",
    "\n",
    "# Create a new collection called \"customers\"\n",
    "mycol = mydb[\"customers\"]\n",
    "\n",
    "# Insert some sample data\n",
    "mycol.insert_many([\n",
    "  { \"name\": \"John\", \"age\": 35 },\n",
    "  { \"name\": \"Jane\", \"age\": 27 },\n",
    "  { \"name\": \"Bob\", \"age\": 42 }\n",
    "])\n",
    "\n",
    "# Query the \"customers\" collection and sort the results by age in ascending order\n",
    "results = mycol.find().sort(\"age\", 1)\n",
    "for r in results:\n",
    "  print(r)\n"
   ]
  },
  {
   "cell_type": "code",
   "execution_count": null,
   "id": "3c12b3df",
   "metadata": {},
   "outputs": [],
   "source": []
  },
  {
   "cell_type": "markdown",
   "id": "4c825956",
   "metadata": {},
   "source": [
    "ans 7:\n",
    "delete_one(), delete_many(), and drop() are methods commonly used in databases to remove data from a collection. Here is a brief explanation of each method and when they are typically used:\n",
    "\n",
    "delete_one() - This method is used to delete a single document that matches a specified filter in the collection. It will delete the first document that matches the filter and stop searching for any other matches. This method is useful when you need to remove a specific document from a collection.\n",
    "\n",
    "delete_many() - This method is used to delete multiple documents that match a specified filter in the collection. It will continue to search for all documents that match the filter and delete them one by one. This method is useful when you need to remove multiple documents from a collection at once.\n",
    "\n",
    "drop() - This method is used to completely remove a collection from the database. It will delete all documents in the collection and remove the collection from the database. This method is useful when you need to completely remove a collection from the database, for example, if the collection is no longer needed or if it needs to be recreated."
   ]
  },
  {
   "cell_type": "code",
   "execution_count": null,
   "id": "c28a0f6c",
   "metadata": {},
   "outputs": [],
   "source": []
  }
 ],
 "metadata": {
  "kernelspec": {
   "display_name": "Python 3 (ipykernel)",
   "language": "python",
   "name": "python3"
  },
  "language_info": {
   "codemirror_mode": {
    "name": "ipython",
    "version": 3
   },
   "file_extension": ".py",
   "mimetype": "text/x-python",
   "name": "python",
   "nbconvert_exporter": "python",
   "pygments_lexer": "ipython3",
   "version": "3.9.12"
  }
 },
 "nbformat": 4,
 "nbformat_minor": 5
}
