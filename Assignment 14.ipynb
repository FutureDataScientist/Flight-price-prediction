{
 "cells": [
  {
   "cell_type": "markdown",
   "id": "9ab3fc00",
   "metadata": {},
   "source": [
    "# Assignment 14"
   ]
  },
  {
   "cell_type": "markdown",
   "id": "dae172e4",
   "metadata": {},
   "source": [
    "ans 1:\n",
    "Multiprocessing in Python is a programming technique that involves using multiple processes to perform multiple tasks concurrently within the same program. Unlike multithreading, which uses multiple threads within the same process, multiprocessing uses multiple independent processes, each with its own memory space and resources.\n",
    "\n",
    "Multiprocessing can be useful in Python for several reasons:\n",
    "\n",
    "Improved performance: By using multiple processes, a program can take advantage of multiple cores on a CPU or multiple CPUs to perform tasks more quickly and efficiently.\n",
    "\n",
    "Improved stability: By isolating tasks into separate processes, a program can be more robust and stable, since problems in one process will not affect other processes.\n",
    "\n",
    "Resource isolation: By using separate processes, a program can ensure that each process has its own memory space and resources, which can improve reliability and security.\n",
    "\n",
    "Easy scaling: By using multiprocessing, a program can more easily scale up to take advantage of more powerful hardware, since each process can be distributed across multiple machines if necessary.\n",
    "\n",
    "Simplified programming: Multiprocessing can simplify programming, since each process can be written as a separate program or module, which can be easier to develop and maintain than complex multithreaded programs."
   ]
  },
  {
   "cell_type": "code",
   "execution_count": null,
   "id": "a0acf21a",
   "metadata": {},
   "outputs": [],
   "source": []
  },
  {
   "cell_type": "markdown",
   "id": "df0ea47e",
   "metadata": {},
   "source": [
    "ans 2:\n",
    "Multiprocessing and multithreading are both techniques used in programming to achieve parallelism, but there are some key differences between them:\n",
    "\n",
    "Memory: In multiprocessing, each process has its own memory space, while in multithreading, all threads share the same memory space. This means that in multiprocessing, data needs to be explicitly shared between processes, while in multithreading, data can be accessed and modified by any thread.\n",
    "\n",
    "Performance: Multiprocessing can achieve better performance than multithreading when dealing with CPU-bound tasks, since each process can be run on a separate CPU core. However, when dealing with I/O-bound tasks, multithreading can be more efficient, since multiple threads can run simultaneously on the same core.\n",
    "\n",
    "Scalability: Multiprocessing can scale better than multithreading, since each process can be run on a separate machine if necessary, while multithreading is limited to the resources of a single machine.\n",
    "\n",
    "Programming complexity: Multiprocessing can be more complex to program than multithreading, since data needs to be explicitly shared between processes using mechanisms like pipes or queues. In multithreading, data can be accessed and modified by any thread, which can make programming easier.\n",
    "\n",
    "Resource usage: Multiprocessing uses more resources than multithreading, since each process has its own memory space and resources, which can result in higher memory usage and startup overhead."
   ]
  },
  {
   "cell_type": "code",
   "execution_count": null,
   "id": "acb19034",
   "metadata": {},
   "outputs": [],
   "source": []
  },
  {
   "cell_type": "code",
   "execution_count": 2,
   "id": "dfdca7c5",
   "metadata": {},
   "outputs": [
    {
     "name": "stdout",
     "output_type": "stream",
     "text": [
      "This is the parent process\n"
     ]
    }
   ],
   "source": [
    " ##ans 3:\n",
    "import multiprocessing\n",
    "\n",
    "def my_process():\n",
    "    print(\"This is a child process\")\n",
    "\n",
    "if __name__ == '__main__':\n",
    "    p = multiprocessing.Process(target=my_process)\n",
    "    p.start()\n",
    "    p.join()\n",
    "    print(\"This is the parent process\")\n"
   ]
  },
  {
   "cell_type": "code",
   "execution_count": null,
   "id": "3fc0721a",
   "metadata": {},
   "outputs": [],
   "source": []
  },
  {
   "cell_type": "markdown",
   "id": "346e0e62",
   "metadata": {},
   "source": [
    "ans 4:\n",
    "Python, a multiprocessing pool is a convenient way to parallelize the execution of a function across multiple inputs. A pool allows you to create a specified number of worker processes, which can then be used to execute a function across multiple inputs in parallel.\n",
    "\n",
    "Here's an example of how to use a multiprocessing pool:"
   ]
  },
  {
   "cell_type": "code",
   "execution_count": null,
   "id": "2f5b5569",
   "metadata": {},
   "outputs": [],
   "source": [
    "import multiprocessing\n",
    "\n",
    "def square(x):\n",
    "    return x*x\n",
    "\n",
    "if __name__ == '__main__':\n",
    "    inputs = [1, 2, 3, 4, 5]\n",
    "    with multiprocessing.Pool(processes=4) as pool:\n",
    "        results = pool.map(square, inputs)\n",
    "    print(results)\n"
   ]
  },
  {
   "cell_type": "markdown",
   "id": "4d0f3609",
   "metadata": {},
   "source": [
    "The main advantage of using a multiprocessing pool is that it allows you to easily parallelize the execution of a function across multiple inputs, which can greatly improve performance on multicore CPUs. By using a pool, you can take advantage of all available CPU cores, and avoid the overhead of starting and stopping individual processes for each input.\n",
    "\n",
    "Overall, multiprocessing pools are a powerful tool for parallelizing CPU-bound tasks in Python, and can help to greatly speed up the execution of certain types of programs"
   ]
  },
  {
   "cell_type": "markdown",
   "id": "72788980",
   "metadata": {},
   "source": []
  },
  {
   "cell_type": "code",
   "execution_count": null,
   "id": "5a16be46",
   "metadata": {},
   "outputs": [],
   "source": []
  },
  {
   "cell_type": "markdown",
   "id": "f1e0d366",
   "metadata": {},
   "source": [
    " ans 5:To create a pool of worker processes in Python using the multiprocessing module, you can use the Pool class. Here's an example of how to create a pool with 4 worker processes:\n",
    "\n"
   ]
  },
  {
   "cell_type": "code",
   "execution_count": null,
   "id": "d2dbb760",
   "metadata": {},
   "outputs": [],
   "source": [
    "import multiprocessing\n",
    "\n",
    "def worker(num):\n",
    "    \"\"\"This function will be called by each worker process.\"\"\"\n",
    "    print(f\"Worker {num} started\")\n",
    "    # do some work...\n",
    "    print(f\"Worker {num} finished\")\n",
    "\n",
    "if __name__ == '__main__':\n",
    "    with multiprocessing.Pool(processes=4) as pool:\n",
    "        # create a pool of 4 worker processes\n",
    "        pool.map(worker, range(4))\n"
   ]
  },
  {
   "cell_type": "code",
   "execution_count": null,
   "id": "6d3be422",
   "metadata": {},
   "outputs": [],
   "source": []
  },
  {
   "cell_type": "markdown",
   "id": "6dc9492d",
   "metadata": {},
   "source": [
    "ans 6:\n",
    "Python program that creates 4 processes, each of which prints a different number using the multiprocessing module"
   ]
  },
  {
   "cell_type": "code",
   "execution_count": null,
   "id": "5d28e177",
   "metadata": {},
   "outputs": [],
   "source": [
    "import multiprocessing\n",
    "\n",
    "def print_number(num):\n",
    "    print(f\"Process {num}: {num+1}\")\n",
    "\n",
    "if __name__ == '__main__':\n",
    "    processes = []\n",
    "    for i in range(4):\n",
    "        p = multiprocessing.Process(target=print_number, args=(i,))\n",
    "        processes.append(p)\n",
    "        p.start()\n",
    "\n",
    "    for p in processes:\n",
    "        p.join()\n"
   ]
  },
  {
   "cell_type": "code",
   "execution_count": null,
   "id": "4e0af5f4",
   "metadata": {},
   "outputs": [],
   "source": []
  }
 ],
 "metadata": {
  "kernelspec": {
   "display_name": "Python 3 (ipykernel)",
   "language": "python",
   "name": "python3"
  },
  "language_info": {
   "codemirror_mode": {
    "name": "ipython",
    "version": 3
   },
   "file_extension": ".py",
   "mimetype": "text/x-python",
   "name": "python",
   "nbconvert_exporter": "python",
   "pygments_lexer": "ipython3",
   "version": "3.9.12"
  }
 },
 "nbformat": 4,
 "nbformat_minor": 5
}
