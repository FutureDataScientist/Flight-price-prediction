{
 "cells": [
  {
   "cell_type": "markdown",
   "id": "54043783",
   "metadata": {},
   "source": [
    "# Assignment 2"
   ]
  },
  {
   "cell_type": "code",
   "execution_count": 1,
   "id": "b20e722a",
   "metadata": {},
   "outputs": [],
   "source": [
    "## ans 1:\n",
    "def get_odd_numbers():\n",
    "    odd_numbers = []\n",
    "    for i in range(1, 26):\n",
    "        if i % 2 != 0:\n",
    "            odd_numbers.append(i)\n",
    "    return odd_numbers"
   ]
  },
  {
   "cell_type": "code",
   "execution_count": 4,
   "id": "9c74c6e0",
   "metadata": {},
   "outputs": [
    {
     "name": "stdout",
     "output_type": "stream",
     "text": [
      "[1, 3, 5, 7, 9, 11, 13, 15, 17, 19, 21, 23, 25]\n"
     ]
    }
   ],
   "source": [
    "print(get_odd_numbers())"
   ]
  },
  {
   "cell_type": "code",
   "execution_count": null,
   "id": "15f58681",
   "metadata": {},
   "outputs": [],
   "source": []
  },
  {
   "cell_type": "markdown",
   "id": "09c1ee77",
   "metadata": {},
   "source": [
    "##ans 2:\n",
    "*args is used to pass a variable number of positional arguments to a function. The *args parameter allows us to pass any number of arguments to the function, which are then treated as a tuple inside the function.\n",
    "**kwargs is used to pass a variable number of keyword arguments to a function. The **kwargs parameter allows us to pass any number of keyword arguments to the function, which are then treated as a dictionary inside the function. for example"
   ]
  },
  {
   "cell_type": "code",
   "execution_count": 5,
   "id": "928f42f7",
   "metadata": {},
   "outputs": [
    {
     "name": "stdout",
     "output_type": "stream",
     "text": [
      "6\n"
     ]
    }
   ],
   "source": [
    "def sum_numbers(*args):\n",
    "    result = 0\n",
    "    for num in args:\n",
    "        result += num\n",
    "    return result\n",
    "\n",
    "print(sum_numbers(1, 2, 3))"
   ]
  },
  {
   "cell_type": "code",
   "execution_count": 6,
   "id": "05e9ecad",
   "metadata": {},
   "outputs": [
    {
     "name": "stdout",
     "output_type": "stream",
     "text": [
      "name: John\n",
      "age: 25\n",
      "city: New York\n"
     ]
    }
   ],
   "source": [
    "def print_details(**kwargs):\n",
    "    for key, value in kwargs.items():\n",
    "        print(f\"{key}: {value}\")\n",
    "\n",
    "print_details(name=\"John\", age=25, city=\"New York\")"
   ]
  },
  {
   "cell_type": "code",
   "execution_count": null,
   "id": "18e939e6",
   "metadata": {},
   "outputs": [],
   "source": []
  },
  {
   "cell_type": "markdown",
   "id": "5f2d1336",
   "metadata": {},
   "source": [
    "## ans 3:\n",
    "A Python object that complies with the iterator protocol, which is made up of the __iter__() and __next__() methods, is known as an iterator. The __next__() method returns the subsequent element in the iteration, but the __iter__() method returns the iterator object itself.\n",
    "\n",
    "In Python, we can use the iter() function to initialise an iterator object. Iter() returns an iterator object after receiving an argument that is an iterable object.\n",
    "\n",
    "\n",
    "A for loop or the next() function can be used to repeatedly iterate over the elements of an iterator object. When there are no more elements to iterate over, the next() function raises the StopIteration exception and returns the subsequent element in the iteration. for example"
   ]
  },
  {
   "cell_type": "code",
   "execution_count": 8,
   "id": "e398d6da",
   "metadata": {},
   "outputs": [
    {
     "name": "stdout",
     "output_type": "stream",
     "text": [
      "2\n",
      "4\n",
      "6\n",
      "8\n",
      "10\n"
     ]
    }
   ],
   "source": [
    "list1 = [2, 4, 6, 8, 10, 12, 14, 16, 18, 20]\n",
    "\n",
    "\n",
    "itera = iter(list1)\n",
    "\n",
    "for i in range(5):\n",
    "    print(next(itera))"
   ]
  },
  {
   "cell_type": "code",
   "execution_count": null,
   "id": "ec388448",
   "metadata": {},
   "outputs": [],
   "source": []
  },
  {
   "cell_type": "markdown",
   "id": "b683db92",
   "metadata": {},
   "source": [
    "##ans 4:\n",
    "An iterator object that can be used to loop through a set of values is returned by a generator function in Python. A regular function runs to completion and returns a value, whereas a generator function can be paused and resumed on demand to produce a succession of values. This is the major distinction between a regular function and a generator function.\n",
    "\n",
    "In generator functions, the yield keyword is used to specify a point at which the function should halt execution and provide a value to the caller. When the generator function is invoked once more, it picks up where it left off with execution and keeps going until it reaches the next yield statement.\n",
    "for example\n",
    "    "
   ]
  },
  {
   "cell_type": "code",
   "execution_count": 9,
   "id": "733e4510",
   "metadata": {},
   "outputs": [
    {
     "name": "stdout",
     "output_type": "stream",
     "text": [
      "0\n",
      "2\n",
      "4\n",
      "6\n",
      "8\n"
     ]
    }
   ],
   "source": [
    "def even_numbers(n):\n",
    "    for i in range(n):\n",
    "        if i % 2 == 0:\n",
    "            yield i\n",
    "\n",
    "my_generator = even_numbers(10)\n",
    "for num in my_generator:\n",
    "    print(num)\n"
   ]
  },
  {
   "cell_type": "code",
   "execution_count": null,
   "id": "0a34b91b",
   "metadata": {},
   "outputs": [],
   "source": []
  },
  {
   "cell_type": "code",
   "execution_count": 10,
   "id": "7fadc225",
   "metadata": {},
   "outputs": [
    {
     "name": "stdout",
     "output_type": "stream",
     "text": [
      "2\n",
      "3\n",
      "5\n",
      "7\n",
      "11\n",
      "13\n",
      "17\n",
      "19\n",
      "23\n",
      "29\n",
      "31\n",
      "37\n",
      "41\n",
      "43\n",
      "47\n",
      "53\n",
      "59\n",
      "61\n",
      "67\n",
      "71\n"
     ]
    }
   ],
   "source": [
    "## ans 5:\n",
    "def prime_numbers():\n",
    "    # iterate over all numbers less than 1000\n",
    "    for num in range(2, 1000):\n",
    "        # check if the number is prime\n",
    "        is_prime = True\n",
    "        for i in range(2, num):\n",
    "            if num % i == 0:\n",
    "                is_prime = False\n",
    "                break\n",
    "        # if the number is prime, yield it\n",
    "        if is_prime:\n",
    "            yield num\n",
    "\n",
    "# create a generator object for prime numbers\n",
    "my_generator = prime_numbers()\n",
    "\n",
    "# print the first 20 prime numbers using next()\n",
    "for i in range(20):\n",
    "    print(next(my_generator))\n"
   ]
  },
  {
   "cell_type": "code",
   "execution_count": null,
   "id": "5188848a",
   "metadata": {},
   "outputs": [],
   "source": []
  }
 ],
 "metadata": {
  "kernelspec": {
   "display_name": "Python 3 (ipykernel)",
   "language": "python",
   "name": "python3"
  },
  "language_info": {
   "codemirror_mode": {
    "name": "ipython",
    "version": 3
   },
   "file_extension": ".py",
   "mimetype": "text/x-python",
   "name": "python",
   "nbconvert_exporter": "python",
   "pygments_lexer": "ipython3",
   "version": "3.9.12"
  }
 },
 "nbformat": 4,
 "nbformat_minor": 5
}
