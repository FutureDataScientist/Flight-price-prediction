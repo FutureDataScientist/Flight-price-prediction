{
 "cells": [
  {
   "cell_type": "markdown",
   "id": "46cc0efa",
   "metadata": {},
   "source": [
    "# Assignment 12"
   ]
  },
  {
   "cell_type": "markdown",
   "id": "bd55839a",
   "metadata": {},
   "source": [
    "ans 1:\n",
    "When creating a custom exception in a programming language such as Python or Java, it is recommended to derive the new exception class from the built-in Exception class. This is because Exception is the base class for all exceptions in these languages, and it provides certain functionality that is necessary for proper exception handling.\n",
    "\n",
    "By deriving a new exception class from the Exception class, the new class inherits all of the functionality of the Exception class, such as the ability to print a message when the exception is raised, as well as the ability to propagate the exception up the call stack until it is caught by a handler.\n",
    "\n",
    "In addition, deriving a new exception class from the Exception class allows us to catch the new exception using a catch block that catches the Exception class. This means that if we have code that catches all exceptions of type Exception, our new custom exception will also be caught by this block.\n",
    "\n",
    "Overall, using the Exception class as the base class for a custom exception provides us with a consistent way of handling exceptions in our code, and ensures that our custom exception behaves like all other exceptions in the language."
   ]
  },
  {
   "cell_type": "code",
   "execution_count": null,
   "id": "a5e7207d",
   "metadata": {},
   "outputs": [],
   "source": []
  },
  {
   "cell_type": "markdown",
   "id": "29d17ad0",
   "metadata": {},
   "source": [
    "ans 2:\n",
    "here's a Python program to print the Python Exception Hierarchy:"
   ]
  },
  {
   "cell_type": "code",
   "execution_count": 1,
   "id": "b7821bae",
   "metadata": {},
   "outputs": [
    {
     "name": "stdout",
     "output_type": "stream",
     "text": [
      "type\n",
      "type\n",
      "type\n",
      "NoneType\n"
     ]
    }
   ],
   "source": [
    "\n",
    "def print_exception_hierarchy(ex):\n",
    "    print(type(ex).__name__)\n",
    "\n",
    "    if hasattr(ex, '__base__'):\n",
    "        print_exception_hierarchy(ex.__base__)\n",
    "\n",
    "print_exception_hierarchy(Exception)\n"
   ]
  },
  {
   "cell_type": "code",
   "execution_count": null,
   "id": "2137d347",
   "metadata": {},
   "outputs": [],
   "source": []
  },
  {
   "cell_type": "markdown",
   "id": "f04fad8c",
   "metadata": {},
   "source": [
    "ans 3:\n",
    "The ArithmeticError class is a built-in class in Python that is used to handle exceptions that occur during arithmetic operations. It is a subclass of the Exception class and is itself the parent class for several specific arithmetic exceptions in Python.\n",
    "\n",
    "Here are two common exceptions that are defined within the ArithmeticError class:\n",
    "\n",
    "ZeroDivisionError: This exception is raised when attempting to divide by zero."
   ]
  },
  {
   "cell_type": "code",
   "execution_count": 2,
   "id": "8ecf1083",
   "metadata": {},
   "outputs": [
    {
     "name": "stdout",
     "output_type": "stream",
     "text": [
      "Cannot divide by zero\n"
     ]
    }
   ],
   "source": [
    "# Example: Divide by zero\n",
    "a = 10\n",
    "b = 0\n",
    "try:\n",
    "    result = a / b\n",
    "except ZeroDivisionError:\n",
    "    print(\"Cannot divide by zero\")\n"
   ]
  },
  {
   "cell_type": "markdown",
   "id": "0da7e213",
   "metadata": {},
   "source": [
    "OverflowError: This exception is raised when a calculation exceeds the maximum value that can be represented by a numeric type."
   ]
  },
  {
   "cell_type": "code",
   "execution_count": 3,
   "id": "6809760f",
   "metadata": {},
   "outputs": [
    {
     "ename": "MemoryError",
     "evalue": "",
     "output_type": "error",
     "traceback": [
      "\u001b[1;31m---------------------------------------------------------------------------\u001b[0m",
      "\u001b[1;31mMemoryError\u001b[0m                               Traceback (most recent call last)",
      "Input \u001b[1;32mIn [3]\u001b[0m, in \u001b[0;36m<cell line: 3>\u001b[1;34m()\u001b[0m\n\u001b[0;32m      2\u001b[0m a \u001b[38;5;241m=\u001b[39m \u001b[38;5;241m2\u001b[39m \u001b[38;5;241m*\u001b[39m\u001b[38;5;241m*\u001b[39m \u001b[38;5;241m1000\u001b[39m\n\u001b[0;32m      3\u001b[0m \u001b[38;5;28;01mtry\u001b[39;00m:\n\u001b[1;32m----> 4\u001b[0m     b \u001b[38;5;241m=\u001b[39m \u001b[43ma\u001b[49m\u001b[43m \u001b[49m\u001b[38;5;241;43m*\u001b[39;49m\u001b[38;5;241;43m*\u001b[39;49m\u001b[43m \u001b[49m\u001b[43ma\u001b[49m\n\u001b[0;32m      5\u001b[0m \u001b[38;5;28;01mexcept\u001b[39;00m \u001b[38;5;167;01mOverflowError\u001b[39;00m:\n\u001b[0;32m      6\u001b[0m     \u001b[38;5;28mprint\u001b[39m(\u001b[38;5;124m\"\u001b[39m\u001b[38;5;124mResult is too large to be represented\u001b[39m\u001b[38;5;124m\"\u001b[39m)\n",
      "\u001b[1;31mMemoryError\u001b[0m: "
     ]
    }
   ],
   "source": [
    "# Example: Integer overflow\n",
    "a = 2 ** 1000\n",
    "try:\n",
    "    b = a ** a\n",
    "except OverflowError:\n",
    "    print(\"Result is too large to be represented\")\n"
   ]
  },
  {
   "cell_type": "code",
   "execution_count": null,
   "id": "f278ee7f",
   "metadata": {},
   "outputs": [],
   "source": []
  },
  {
   "cell_type": "markdown",
   "id": "23a506a6",
   "metadata": {},
   "source": [
    "ans 4:\n",
    "    The LookupError class is a built-in class in Python that is used to handle exceptions that occur when a key or index is not found in a sequence or mapping. It is a parent class for several specific lookup exceptions in Python, including KeyError and IndexError.\n",
    "\n",
    "Here are examples of KeyError and IndexError, which are both subclasses of LookupError:\n",
    "\n",
    "KeyError: This exception is raised when trying to access a dictionary key that does not exist."
   ]
  },
  {
   "cell_type": "code",
   "execution_count": 4,
   "id": "d03048bc",
   "metadata": {},
   "outputs": [
    {
     "name": "stdout",
     "output_type": "stream",
     "text": [
      "Key not found in dictionary\n"
     ]
    }
   ],
   "source": [
    "# Example: Accessing a non-existent key in a dictionary\n",
    "my_dict = {'a': 1, 'b': 2, 'c': 3}\n",
    "try:\n",
    "    value = my_dict['d']\n",
    "except KeyError:\n",
    "    print(\"Key not found in dictionary\")\n"
   ]
  },
  {
   "cell_type": "markdown",
   "id": "596b7b22",
   "metadata": {},
   "source": [
    "IndexError: This exception is raised when trying to access an element in a sequence (such as a list or string) with an invalid index."
   ]
  },
  {
   "cell_type": "code",
   "execution_count": 5,
   "id": "891ed978",
   "metadata": {},
   "outputs": [
    {
     "name": "stdout",
     "output_type": "stream",
     "text": [
      "Index out of range for list\n"
     ]
    }
   ],
   "source": [
    "# Example: Accessing an element with an invalid index in a list\n",
    "my_list = [1, 2, 3]\n",
    "try:\n",
    "    value = my_list[3]\n",
    "except IndexError:\n",
    "    print(\"Index out of range for list\")\n"
   ]
  },
  {
   "cell_type": "code",
   "execution_count": null,
   "id": "1cef5540",
   "metadata": {},
   "outputs": [],
   "source": []
  },
  {
   "cell_type": "markdown",
   "id": "7e3ba2fb",
   "metadata": {},
   "source": [
    "ans 5:\n",
    "ImportError is a built-in exception class in Python that is raised when an import statement fails to import a module. This can occur for a variety of reasons, such as a missing or invalid module name, an inability to access the module, or a syntax error within the module itself.\n",
    "\n",
    "Here's an example of how ImportError might be raised:"
   ]
  },
  {
   "cell_type": "code",
   "execution_count": 6,
   "id": "7a75be8d",
   "metadata": {},
   "outputs": [
    {
     "name": "stdout",
     "output_type": "stream",
     "text": [
      "Could not import module\n"
     ]
    }
   ],
   "source": [
    "# Example: Importing a non-existent module\n",
    "try:\n",
    "    import my_module\n",
    "except ImportError:\n",
    "    print(\"Could not import module\")\n"
   ]
  },
  {
   "cell_type": "markdown",
   "id": "b0ab5198",
   "metadata": {},
   "source": [
    "ModuleNotFoundError is a subclass of ImportError that was introduced in Python 3.6. It is raised specifically when a module cannot be found during an import statement. This is typically caused by a misspelled or non-existent module name, or a failure to properly configure the Python environment.\n",
    "\n",
    "Here's an example of how ModuleNotFoundError might be raised:"
   ]
  },
  {
   "cell_type": "code",
   "execution_count": 7,
   "id": "3264135e",
   "metadata": {},
   "outputs": [
    {
     "name": "stdout",
     "output_type": "stream",
     "text": [
      "Module not found\n"
     ]
    }
   ],
   "source": [
    "# Example: Importing a non-existent module (Python 3.6+)\n",
    "try:\n",
    "    import my_module\n",
    "except ModuleNotFoundError:\n",
    "    print(\"Module not found\")\n"
   ]
  },
  {
   "cell_type": "code",
   "execution_count": null,
   "id": "193f813d",
   "metadata": {},
   "outputs": [],
   "source": []
  },
  {
   "cell_type": "markdown",
   "id": "dcf284fa",
   "metadata": {},
   "source": [
    "ans 6:\n",
    "Exception handling is an important part of writing robust and reliable code in Python. Here are some best practices for handling exceptions in Python:\n",
    "\n",
    "Be specific: Catch only the exceptions that you expect to be raised, and avoid using a catch-all except block. This helps to avoid masking errors and makes it easier to identify and handle specific types of exceptions.\n",
    "\n",
    "Handle exceptions at the appropriate level: Catch exceptions as close to the point where they occur as possible. This helps to ensure that exceptions are handled in the correct context and can provide more meaningful error messages.\n",
    "\n",
    "Use meaningful error messages: When raising or catching exceptions, use clear and informative error messages that describe what went wrong and how to resolve the issue.\n",
    "\n",
    "Avoid bare except statements: Never use a bare except statement, as this can mask errors and make it difficult to debug issues. Instead, catch specific exceptions or use a generic except block that handles all exceptions in a meaningful way.\n",
    "\n",
    "Use finally for cleanup: Use a finally block to ensure that cleanup code is executed even if an exception is raised. This can help to avoid resource leaks and ensure that your code behaves correctly even in the face of errors.\n",
    "\n",
    "Reraise exceptions selectively: If you catch an exception and cannot handle it, consider re-raising the exception so that it can be handled by a higher-level handler. This can help to ensure that exceptions are handled at the appropriate level and provide more informative error messages.\n",
    "\n",
    "Use context managers: Use context managers (e.g., with statements) to ensure that resources are properly managed and cleaned up even in the face of errors. This can help to avoid resource leaks and ensure that your code is more robust.\n",
    "\n",
    "By following these best practices, you can write code that is more robust, reliable, and easier to debug and maintain."
   ]
  },
  {
   "cell_type": "code",
   "execution_count": null,
   "id": "a690e192",
   "metadata": {},
   "outputs": [],
   "source": []
  }
 ],
 "metadata": {
  "kernelspec": {
   "display_name": "Python 3 (ipykernel)",
   "language": "python",
   "name": "python3"
  },
  "language_info": {
   "codemirror_mode": {
    "name": "ipython",
    "version": 3
   },
   "file_extension": ".py",
   "mimetype": "text/x-python",
   "name": "python",
   "nbconvert_exporter": "python",
   "pygments_lexer": "ipython3",
   "version": "3.9.12"
  }
 },
 "nbformat": 4,
 "nbformat_minor": 5
}
