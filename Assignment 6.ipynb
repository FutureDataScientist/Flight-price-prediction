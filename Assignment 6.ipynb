{
 "cells": [
  {
   "cell_type": "markdown",
   "id": "8296aaad",
   "metadata": {},
   "source": [
    "# Assignment 6"
   ]
  },
  {
   "cell_type": "code",
   "execution_count": 1,
   "id": "ddf66271",
   "metadata": {},
   "outputs": [
    {
     "name": "stdout",
     "output_type": "stream",
     "text": [
      "Enter percentage: 78\n",
      "Grade:  C\n"
     ]
    }
   ],
   "source": [
    "# #ans 1:\n",
    "percentage = float(input(\"Enter percentage: \"))\n",
    "\n",
    "if percentage >= 90:\n",
    "    grade = 'A'\n",
    "elif percentage >= 80 and percentage < 90:\n",
    "    grade = 'B'\n",
    "elif percentage >= 60 and percentage < 80:\n",
    "    grade = 'C'\n",
    "else:\n",
    "    grade = 'D'\n",
    "\n",
    "print(\"Grade: \", grade)\n"
   ]
  },
  {
   "cell_type": "code",
   "execution_count": null,
   "id": "a0ceac33",
   "metadata": {},
   "outputs": [],
   "source": [
    "cost_price = int(input(\"Enter cost price of the bike (in Rs): \"))\n",
    "if cost_price>100000:\n",
    "    tax=15\n",
    "elif cost_price > 50000 and cost_price <= 100000:\n",
    "    tax = 10\n",
    "elif cost_price <= 50000:\n",
    "    tax = 5\n",
    "else:\n",
    "    tax = 0\n",
    "\n",
    "road_tax = (cost_price * tax) / 100\n",
    "\n",
    "print(\"Road tax to be paid (in Rs): \", road_tax)\n"
   ]
  },
  {
   "cell_type": "code",
   "execution_count": null,
   "id": "0b1960dd",
   "metadata": {},
   "outputs": [],
   "source": [
    "## ans 3:\n",
    "city = input(\"Enter a city: \")\n",
    "\n",
    "if city == \"Delhi\":\n",
    "    monuments = [\"Red Fort\"]\n",
    "elif city == \"Agra\":\n",
    "    monuments = [\"Taj Mahal\"]\n",
    "elif city == \"Jaipur\":\n",
    "    monuments = [\"Jal Mahal\"]\n",
    "else:\n",
    "    monuments = []\n",
    "\n",
    "if monuments:\n",
    "    print(\"Monuments in\", city + \":\")\n",
    "    for monument in monuments:\n",
    "        print(monument)\n",
    "else:\n",
    "    print(\"No monuments found for\", city)\n",
    "\n"
   ]
  },
  {
   "cell_type": "code",
   "execution_count": null,
   "id": "cd1cfdc3",
   "metadata": {},
   "outputs": [],
   "source": [
    "## ans 4:\n",
    "number = int(input(\"Enter a number: \"))\n",
    "count = 0\n",
    "\n",
    "while number > 10:\n",
    "    number = number / 3\n",
    "    count += 1\n",
    "\n",
    "print(\"The number can be divided by 3\", count, \"times before it is less than or equal to 10.\")\n"
   ]
  },
  {
   "cell_type": "markdown",
   "id": "c36eedb6",
   "metadata": {},
   "source": [
    "## ans 5:\n",
    "A while loop in Python is used to repeatedly execute a block of code as long as a particular condition is true. The condition is tested before each iteration of the loop, and the loop continues to run as long as the condition remains true.\n",
    "\n",
    "The general syntax for a while loop in Python is as follows:\n",
    "\n",
    "\n"
   ]
  },
  {
   "cell_type": "code",
   "execution_count": null,
   "id": "cfdb46b9",
   "metadata": {},
   "outputs": [],
   "source": [
    "while condition:\n",
    "    # code to be executed\n"
   ]
  },
  {
   "cell_type": "markdown",
   "id": "7cde89a7",
   "metadata": {},
   "source": [
    "Here, condition is the condition that is tested before each iteration of the loop, and code to be executed is the block of code that is executed repeatedly as long as the condition remains true.\n",
    "\n",
    "One of the most common use cases for a while loop in Python is to iterate over a sequence of values until a certain condition is met. For example, you can use a while loop to iterate over a list of numbers until you find the first even number:\n",
    "\n"
   ]
  },
  {
   "cell_type": "code",
   "execution_count": null,
   "id": "849f5264",
   "metadata": {},
   "outputs": [],
   "source": [
    "numbers = [1, 3, 5, 7, 8, 9, 11]\n",
    "\n",
    "i = 0\n",
    "while i < len(numbers):\n",
    "    if numbers[i] % 2 == 0:\n",
    "        print(\"First even number found:\", numbers[i])\n",
    "        break\n",
    "    i += 1\n",
    "else:\n",
    "    print(\"No even numbers found\")\n"
   ]
  },
  {
   "cell_type": "code",
   "execution_count": null,
   "id": "00b21ecc",
   "metadata": {},
   "outputs": [],
   "source": [
    "##ans 6:\n",
    "i = 1\n",
    "while i <= 5:\n",
    "    j = 1\n",
    "    while j <= i:\n",
    "        print(i, end=\"\")\n",
    "        j += 1\n",
    "    print()\n",
    "    i += 1\n"
   ]
  },
  {
   "cell_type": "code",
   "execution_count": null,
   "id": "efe9a7a0",
   "metadata": {},
   "outputs": [],
   "source": [
    "i = 1\n",
    "while i <= 5:\n",
    "    j = i\n",
    "    while j >= 1:\n",
    "        print(j, end=\"\")\n",
    "        j -= 1\n",
    "    print()\n",
    "    i += 1\n"
   ]
  },
  {
   "cell_type": "code",
   "execution_count": null,
   "id": "7614f99b",
   "metadata": {},
   "outputs": [],
   "source": [
    "i = 1\n",
    "n = 1\n",
    "while i <= 4:\n",
    "    j = 1\n",
    "    while j <= i:\n",
    "        print(n, end=\"\")\n",
    "        n += 1\n",
    "        j += 1\n",
    "    print()\n",
    "    i += 1\n"
   ]
  },
  {
   "cell_type": "code",
   "execution_count": null,
   "id": "2ad8e2e1",
   "metadata": {},
   "outputs": [],
   "source": [
    "## ans 7:\n",
    "i = 10\n",
    "while i >= 1:\n",
    "    print(i)\n",
    "    i -= 1\n"
   ]
  },
  {
   "cell_type": "code",
   "execution_count": null,
   "id": "274cc384",
   "metadata": {},
   "outputs": [],
   "source": [
    "## ans 8:\n",
    "i = 10\n",
    "while i >= 1:\n",
    "    print(i)\n",
    "    i -= 1\n"
   ]
  }
 ],
 "metadata": {
  "kernelspec": {
   "display_name": "Python 3 (ipykernel)",
   "language": "python",
   "name": "python3"
  },
  "language_info": {
   "codemirror_mode": {
    "name": "ipython",
    "version": 3
   },
   "file_extension": ".py",
   "mimetype": "text/x-python",
   "name": "python",
   "nbconvert_exporter": "python",
   "pygments_lexer": "ipython3",
   "version": "3.9.12"
  }
 },
 "nbformat": 4,
 "nbformat_minor": 5
}
