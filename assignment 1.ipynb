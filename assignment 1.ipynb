{
 "cells": [
  {
   "cell_type": "markdown",
   "id": "4dff6ce6",
   "metadata": {},
   "source": [
    "# assignment"
   ]
  },
  {
   "cell_type": "markdown",
   "id": "91da3923",
   "metadata": {},
   "source": [
    "1 A series of unchangeable, ordered elements is known as a tuple. Tuples mostly have the following features:\n",
    "\n",
    "An immutable tuple cannot be changed once it has been generated. Once a tuple has been constructed, its components cannot be changed, added, or removed.\n",
    "\n",
    "\n",
    "Ordered: A tuple's components are arranged in a specific order that is upheld during the course of the tuple's existence.\n",
    "    A tuple's elements can be accessed using their index.\n",
    "\n",
    "A tuple can include elements of several data types, such as numbers, texts, lists, and other tuples, making it heterogeneous.\n",
    "\n",
    "Iterable: A loop or comprehension can be used to repeatedly iterate through the components of a tuple.\n",
    "\n",
    "Tuples can be used as sets' components and as keys in dictionaries because they are hashable.\n",
    "\n",
    "Yes, tuples are immutable, as mentioned earlier. Once a tuple is created, you cannot modify its elements. \n",
    "If you need to modify a tuple, you need to create a new tuple with the desired changes."
   ]
  },
  {
   "cell_type": "code",
   "execution_count": 1,
   "id": "888ae407",
   "metadata": {},
   "outputs": [],
   "source": [
    "# form example\n",
    "t=(1,2,3,4)\n"
   ]
  },
  {
   "cell_type": "code",
   "execution_count": 2,
   "id": "0a976cf3",
   "metadata": {},
   "outputs": [
    {
     "data": {
      "text/plain": [
       "tuple"
      ]
     },
     "execution_count": 2,
     "metadata": {},
     "output_type": "execute_result"
    }
   ],
   "source": [
    "type(t)"
   ]
  },
  {
   "cell_type": "code",
   "execution_count": 3,
   "id": "76172638",
   "metadata": {},
   "outputs": [
    {
     "ename": "TypeError",
     "evalue": "'tuple' object does not support item assignment",
     "output_type": "error",
     "traceback": [
      "\u001b[1;31m---------------------------------------------------------------------------\u001b[0m",
      "\u001b[1;31mTypeError\u001b[0m                                 Traceback (most recent call last)",
      "Input \u001b[1;32mIn [3]\u001b[0m, in \u001b[0;36m<cell line: 1>\u001b[1;34m()\u001b[0m\n\u001b[1;32m----> 1\u001b[0m t[\u001b[38;5;241m0\u001b[39m]\u001b[38;5;241m=\u001b[39m\u001b[38;5;241m5\u001b[39m\n",
      "\u001b[1;31mTypeError\u001b[0m: 'tuple' object does not support item assignment"
     ]
    }
   ],
   "source": [
    "t[0]=5"
   ]
  },
  {
   "cell_type": "markdown",
   "id": "fa2e886c",
   "metadata": {},
   "source": [
    "ans 2=In Python, tuples have two built-in methods: count() and index().\n",
    "\n",
    "The count() method returns the number of times a specified element appears in the tuple. "
   ]
  },
  {
   "cell_type": "code",
   "execution_count": 4,
   "id": "e4e85f47",
   "metadata": {},
   "outputs": [
    {
     "data": {
      "text/plain": [
       "2"
      ]
     },
     "execution_count": 4,
     "metadata": {},
     "output_type": "execute_result"
    }
   ],
   "source": [
    "#for example count:\n",
    "my_top=(1,2,3,4,3,2,1)\n",
    "my_top.count(1)"
   ]
  },
  {
   "cell_type": "code",
   "execution_count": 5,
   "id": "32f20575",
   "metadata": {},
   "outputs": [
    {
     "data": {
      "text/plain": [
       "3"
      ]
     },
     "execution_count": 5,
     "metadata": {},
     "output_type": "execute_result"
    }
   ],
   "source": [
    "#for example index:\n",
    "my_top=(1,2,3,4,3,2,1)\n",
    "my_top.index(4)"
   ]
  },
  {
   "cell_type": "markdown",
   "id": "c1c24c84",
   "metadata": {},
   "source": [
    "Due to the fact that tuples are immutable but lists are mutable, they have fewer built-in functions than lists.\n",
    "Tuples don't require methods like add() or remove() that alter the tuple because they can't be modified.\n",
    "When working with tuples, the count() and index() methods come in handy, especially if you need to locate the occurrence of a specific element or its index in the tuple.\n",
    "In contrast, lists are mutable and support actions like adding and removing elements, therefore they contain more built-in methods."
   ]
  },
  {
   "cell_type": "code",
   "execution_count": null,
   "id": "aa4dd543",
   "metadata": {},
   "outputs": [],
   "source": []
  },
  {
   "cell_type": "markdown",
   "id": "f486b613",
   "metadata": {},
   "source": [
    "ans 3: The collection datatypes in Python that do not allow duplicate items are:\n",
    "\n",
    "Set: A set is an unordered collection of unique elements.\n",
    "\n",
    "Dictionary: A dictionary is a collection of key-value pairs, where each key is unique."
   ]
  },
  {
   "cell_type": "code",
   "execution_count": 10,
   "id": "fc69904a",
   "metadata": {},
   "outputs": [
    {
     "name": "stdout",
     "output_type": "stream",
     "text": [
      "list[{1, 2, 3, 4}]\n"
     ]
    }
   ],
   "source": [
    "List = [1, 1, 1, 2, 1, 3, 1, 4, 2, 1, 2, 2, 2, 3, 2, 4, 3, 1, 3, 2, 3, 3, 3, 4, 4, 1, 4, 2, 4, 3, 4, 4]\n",
    "my_set=set(List)\n",
    "list2=list[my_set]\n",
    "print(list2)"
   ]
  },
  {
   "cell_type": "markdown",
   "id": "4f6c8557",
   "metadata": {},
   "source": [
    "in the above code, we first convert the list my_list to a set using the set() constructor. Since sets do not allow duplicate elements, \n",
    "any duplicates in the list are automatically removed. Then, we convert the set back to a list using the list() constructor to obtain the list without duplicates."
   ]
  },
  {
   "cell_type": "code",
   "execution_count": null,
   "id": "6a683d97",
   "metadata": {},
   "outputs": [],
   "source": []
  },
  {
   "cell_type": "markdown",
   "id": "3512acfd",
   "metadata": {},
   "source": [
    "ans 4:The union() method generates a new set from the original set plus one or more other sets that includes all the unique elements from both sets. The initial set is left alone. Here's an example:"
   ]
  },
  {
   "cell_type": "code",
   "execution_count": 12,
   "id": "88b19ee5",
   "metadata": {},
   "outputs": [
    {
     "name": "stdout",
     "output_type": "stream",
     "text": [
      "{1, 2, 3, 4, 5, 6, 9}\n",
      "{1, 2, 3, 6}\n"
     ]
    }
   ],
   "source": [
    "set1 = {1, 2, 3,6}\n",
    "set2 = {3, 4, 5,9}\n",
    "set3 = set1.union(set2)\n",
    "print(set3) \n",
    "print(set1)"
   ]
  },
  {
   "cell_type": "markdown",
   "id": "929bb06f",
   "metadata": {},
   "source": [
    "In this example, we have two sets set1 and set2. The union() method is used to create a new set set3 that contains all the unique elements of both sets. The original sets set1 and set2 are not modified.\n",
    "\n",
    "The update() method, on the other hand, modifies the original set by adding all the elements of one or more other sets to it. Here's an example:"
   ]
  },
  {
   "cell_type": "code",
   "execution_count": 13,
   "id": "f1892184",
   "metadata": {},
   "outputs": [
    {
     "name": "stdout",
     "output_type": "stream",
     "text": [
      "{1, 2, 3, 4, 5, 6, 9}\n"
     ]
    }
   ],
   "source": [
    "set1 = {1, 2, 3,6}\n",
    "set2 = {3, 4, 5,9}\n",
    "set1.update(set2)\n",
    "print(set1)"
   ]
  },
  {
   "cell_type": "markdown",
   "id": "d0fdf11e",
   "metadata": {},
   "source": [
    "In this example, we have two sets set1 and set2. The update() method is used to add all the elements of set2 to set1, modifying set1. After the update, set1 contains all the unique elements of both sets.\n",
    "\n",
    "To summarise, the primary distinction between union() and update() is that the former provides a new set without changing the original set, whereas the latter alters the original set by include elements from other sets."
   ]
  },
  {
   "cell_type": "code",
   "execution_count": null,
   "id": "f873d04b",
   "metadata": {},
   "outputs": [],
   "source": []
  },
  {
   "cell_type": "markdown",
   "id": "de99d2d1",
   "metadata": {},
   "source": [
    "ans 5:Python defines a dictionary as an unordered set of key-value pairs. A dictionary's keys are all distinct and connected to values that can be of any data type, including numbers, strings, lists, or even another dictionary. In other programming languages, dictionaries are often referred to as associative arrays, maps, or hash tables.\n",
    "Here's an example of a dictionary in Python:"
   ]
  },
  {
   "cell_type": "code",
   "execution_count": 14,
   "id": "295e15de",
   "metadata": {},
   "outputs": [],
   "source": [
    "T1 = {\"apple\": 3, \"banana\": 5, \"orange\": 2}"
   ]
  },
  {
   "cell_type": "markdown",
   "id": "00c089a2",
   "metadata": {},
   "source": [
    "In this case, the dictionary my dict has three key-value pairs with the values 3, 5, and 2 for \"apple,\" \"banana,\" and \"orange,\" respectively. The values are integers that indicate the quantity of fruits, while the keys are strings that represent the names of the fruits. Keep in mind that each pair is separated by a comma and that the key-value pairs are surrounded in curly braces.\n",
    "\n",
    "For storing and retrieving data using key-value pairs, dictionaries are highly helpful. You can use the square bracket [] notation with a key to access the value connected to that key in a dictionary.\n",
    " For example:"
   ]
  },
  {
   "cell_type": "code",
   "execution_count": 16,
   "id": "c9390c34",
   "metadata": {},
   "outputs": [
    {
     "name": "stdout",
     "output_type": "stream",
     "text": [
      "3\n"
     ]
    }
   ],
   "source": [
    "print(T1[\"apple\"])"
   ]
  },
  {
   "cell_type": "markdown",
   "id": "17f78840",
   "metadata": {},
   "source": [
    "Dictionary key-value pairs are not stored in any particular order since dictionaries are unordered in terms of order. The order in which key-value pairs are added to a dictionary may not correspond to the order in which they are stored as a result"
   ]
  },
  {
   "cell_type": "code",
   "execution_count": null,
   "id": "8bd92cd2",
   "metadata": {},
   "outputs": [],
   "source": []
  },
  {
   "cell_type": "markdown",
   "id": "14901b44",
   "metadata": {},
   "source": [
    "ans 6:Yes, we can create a nested dictionary in Python. A nested dictionary is a dictionary that contains one or more dictionaries as its values. Here's an example of a simple one-level nested dictionary:\n",
    "\n",
    "python"
   ]
  },
  {
   "cell_type": "code",
   "execution_count": 17,
   "id": "12f5ee75",
   "metadata": {},
   "outputs": [],
   "source": [
    "my_dict = { \"fruit\": { \"apple\": 3, \"banana\": 5, \"orange\": 2  }, \"vegetable\": { \"carrot\": 4,\"spinach\": 2, \"broccoli\": 3  }}"
   ]
  },
  {
   "cell_type": "code",
   "execution_count": 18,
   "id": "95163720",
   "metadata": {},
   "outputs": [
    {
     "name": "stdout",
     "output_type": "stream",
     "text": [
      "{'fruit': {'apple': 3, 'banana': 5, 'orange': 2}, 'vegetable': {'carrot': 4, 'spinach': 2, 'broccoli': 3}}\n"
     ]
    }
   ],
   "source": [
    "print(my_dict)"
   ]
  },
  {
   "cell_type": "code",
   "execution_count": null,
   "id": "5650a261",
   "metadata": {},
   "outputs": [],
   "source": []
  },
  {
   "cell_type": "markdown",
   "id": "7ab97c07",
   "metadata": {},
   "source": [
    "ans 7:We can use the setdefault() method to add a new key-value pair to a dictionary only if the key does not already exist, or to update the value of an existing key.\n",
    "\n",
    "Here's an example "
   ]
  },
  {
   "cell_type": "code",
   "execution_count": 19,
   "id": "dbcd7642",
   "metadata": {},
   "outputs": [
    {
     "name": "stdout",
     "output_type": "stream",
     "text": [
      "{'language': 'Python', 'course': 'Data Science Masters', 'topics': ['Python', 'Machine Learning', 'Deep Learning']}\n"
     ]
    }
   ],
   "source": [
    "dict1 = {'language': 'Python', 'course': 'Data Science Masters'}\n",
    "\n",
    "dict1.setdefault('topics', ['Python', 'Machine Learning', 'Deep Learning'])\n",
    "\n",
    "print(dict1)"
   ]
  },
  {
   "cell_type": "code",
   "execution_count": null,
   "id": "cc852197",
   "metadata": {},
   "outputs": [],
   "source": []
  },
  {
   "cell_type": "markdown",
   "id": "8b6d243c",
   "metadata": {},
   "source": [
    "ans 8:The three view objects in Python dictionaries are:\n",
    "\n",
    "1.dict_keys: This view object contains the keys of the dictionary.\n",
    "2.dict_values: This view object contains the values of the dictionary.\n",
    "3.dict_items: This view object contains the key-value pairs of the dictionary as tuples."
   ]
  },
  {
   "cell_type": "code",
   "execution_count": 20,
   "id": "39609628",
   "metadata": {},
   "outputs": [
    {
     "name": "stdout",
     "output_type": "stream",
     "text": [
      "dict_keys(['Sport', 'Teams'])\n",
      "dict_values(['Cricket', ['India', 'Australia', 'England', 'South Africa', 'Sri Lanka', 'New Zealand']])\n",
      "dict_items([('Sport', 'Cricket'), ('Teams', ['India', 'Australia', 'England', 'South Africa', 'Sri Lanka', 'New Zealand'])])\n"
     ]
    }
   ],
   "source": [
    "dict1 = {'Sport': 'Cricket' , 'Teams': ['India', 'Australia', 'England', 'South Africa', 'Sri Lanka', 'New Zealand']}\n",
    "\n",
    "print(dict1.keys())\n",
    "print(dict1.values())\n",
    "print(dict1.items())\n"
   ]
  },
  {
   "cell_type": "code",
   "execution_count": null,
   "id": "1a443fae",
   "metadata": {},
   "outputs": [],
   "source": []
  }
 ],
 "metadata": {
  "kernelspec": {
   "display_name": "Python 3 (ipykernel)",
   "language": "python",
   "name": "python3"
  },
  "language_info": {
   "codemirror_mode": {
    "name": "ipython",
    "version": 3
   },
   "file_extension": ".py",
   "mimetype": "text/x-python",
   "name": "python",
   "nbconvert_exporter": "python",
   "pygments_lexer": "ipython3",
   "version": "3.9.12"
  }
 },
 "nbformat": 4,
 "nbformat_minor": 5
}
